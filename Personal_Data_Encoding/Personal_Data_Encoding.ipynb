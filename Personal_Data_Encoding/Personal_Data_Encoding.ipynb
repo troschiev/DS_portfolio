{
 "cells": [
  {
   "cell_type": "markdown",
   "metadata": {},
   "source": [
    "# Защита персональных данных клиентов"
   ]
  },
  {
   "cell_type": "markdown",
   "metadata": {},
   "source": [
    "Вам нужно защитить данные клиентов страховой компании «Хоть потоп». Разработайте такой метод преобразования данных, чтобы по ним было сложно восстановить персональную информацию. Обоснуйте корректность его работы.\n",
    "\n",
    "Нужно защитить данные, чтобы при преобразовании качество моделей машинного обучения не ухудшилось. Подбирать наилучшую модель не требуется."
   ]
  },
  {
   "cell_type": "markdown",
   "metadata": {
    "id": "Yp8LaRBJ6OJ-",
    "pycharm": {
     "name": "#%% md\n"
    }
   },
   "source": [
    "## Технический блок"
   ]
  },
  {
   "cell_type": "code",
   "execution_count": 1,
   "metadata": {
    "colab": {
     "base_uri": "https://localhost:8080/"
    },
    "id": "LSVFwpqw6OKB",
    "outputId": "e7320729-5ef6-4547-db8e-a148c7134892",
    "pycharm": {
     "name": "#%%\n"
    }
   },
   "outputs": [],
   "source": [
    "import warnings\n",
    "warnings.filterwarnings('ignore')\n",
    "import matplotlib.pyplot as plt\n",
    "import numpy as np\n",
    "import pandas as pd\n",
    "import seaborn as sns\n",
    "from sklearn import model_selection, tree, linear_model, metrics, ensemble, preprocessing, neighbors, naive_bayes, svm, set_config, impute, manifold, feature_selection, inspection, pipeline, decomposition\n",
    "\n",
    "random_state = 2077"
   ]
  },
  {
   "cell_type": "code",
   "execution_count": 2,
   "metadata": {},
   "outputs": [],
   "source": [
    "%matplotlib inline\n",
    "\n",
    "sns.set()\n",
    "sns.set(rc = {'figure.figsize':(12,8)})\n",
    "sns.set_style(\"whitegrid\")\n",
    "sns.set_palette('pastel')\n",
    "plt.rcParams[\"figure.figsize\"] = (12, 8)\n",
    "\n",
    "np.random.seed(seed=random_state)"
   ]
  },
  {
   "cell_type": "markdown",
   "metadata": {},
   "source": [
    "## Загрузка данных"
   ]
  },
  {
   "cell_type": "code",
   "execution_count": 3,
   "metadata": {},
   "outputs": [],
   "source": [
    "file_path = 'H:/Google_d/2021_ШАД/Yandex - project 10/data/'\n",
    "\n",
    "def load_dataframe(filename, file_path, showinfo=False, showdescribe=False, showcolumns=False):\n",
    "    try:\n",
    "        df = pd.read_csv('/datasets/' + filename, sep=',')  # Серверный путь\n",
    "        print('Загружено с сервера')\n",
    "    except:\n",
    "        try:\n",
    "            df = pd.read_csv(file_path + filename, sep=',')  # Локальный путь\n",
    "            print('Загружено с локального диска')\n",
    "        except:\n",
    "            try:\n",
    "                df = pd.read_csv('/content/' + filename, sep=',')  # Локальный путь\n",
    "                print('Загружено с гугл-диска')\n",
    "            except: print('Файл не найден')\n",
    "    df.columns = [i.lower().strip().replace(' ','') for i in df.columns]\n",
    "    print('Количество строк', len(df))\n",
    "    print('Количество столбцов', len(df.columns))\n",
    "    print('Количество дубликатов', df.duplicated().sum())\n",
    "    print('Количество пропусков всего', df.isna().sum(axis=1).sum(axis=0))\n",
    "    a = df.isna().sum()\n",
    "    print('Количество столбцов с пропусками', len(a[a>0]))\n",
    "    print('Количество столбцов с типами данных:\\n', df.dtypes.value_counts().to_string())\n",
    "\n",
    "    if showinfo:\n",
    "        display(df.info())\n",
    "    if showdescribe:\n",
    "        display(df.describe(include='all').T)\n",
    "    if showcolumns:\n",
    "        print(df.columns.tolist())\n",
    "    return df"
   ]
  },
  {
   "cell_type": "code",
   "execution_count": 4,
   "metadata": {},
   "outputs": [
    {
     "name": "stdout",
     "output_type": "stream",
     "text": [
      "Загружено с сервера\n",
      "Количество строк 5000\n",
      "Количество столбцов 5\n",
      "Количество дубликатов 153\n",
      "Количество пропусков всего 0\n",
      "Количество столбцов с пропусками 0\n",
      "Количество столбцов с типами данных:\n",
      " int64      3\n",
      "float64    2\n",
      "<class 'pandas.core.frame.DataFrame'>\n",
      "RangeIndex: 5000 entries, 0 to 4999\n",
      "Data columns (total 5 columns):\n",
      "пол                 5000 non-null int64\n",
      "возраст             5000 non-null float64\n",
      "зарплата            5000 non-null float64\n",
      "членысемьи          5000 non-null int64\n",
      "страховыевыплаты    5000 non-null int64\n",
      "dtypes: float64(2), int64(3)\n",
      "memory usage: 195.4 KB\n"
     ]
    },
    {
     "data": {
      "text/plain": [
       "None"
      ]
     },
     "metadata": {},
     "output_type": "display_data"
    },
    {
     "data": {
      "text/html": [
       "<div>\n",
       "<style scoped>\n",
       "    .dataframe tbody tr th:only-of-type {\n",
       "        vertical-align: middle;\n",
       "    }\n",
       "\n",
       "    .dataframe tbody tr th {\n",
       "        vertical-align: top;\n",
       "    }\n",
       "\n",
       "    .dataframe thead th {\n",
       "        text-align: right;\n",
       "    }\n",
       "</style>\n",
       "<table border=\"1\" class=\"dataframe\">\n",
       "  <thead>\n",
       "    <tr style=\"text-align: right;\">\n",
       "      <th></th>\n",
       "      <th>count</th>\n",
       "      <th>mean</th>\n",
       "      <th>std</th>\n",
       "      <th>min</th>\n",
       "      <th>25%</th>\n",
       "      <th>50%</th>\n",
       "      <th>75%</th>\n",
       "      <th>max</th>\n",
       "    </tr>\n",
       "  </thead>\n",
       "  <tbody>\n",
       "    <tr>\n",
       "      <td>пол</td>\n",
       "      <td>5000.0</td>\n",
       "      <td>0.4990</td>\n",
       "      <td>0.500049</td>\n",
       "      <td>0.0</td>\n",
       "      <td>0.0</td>\n",
       "      <td>0.0</td>\n",
       "      <td>1.0</td>\n",
       "      <td>1.0</td>\n",
       "    </tr>\n",
       "    <tr>\n",
       "      <td>возраст</td>\n",
       "      <td>5000.0</td>\n",
       "      <td>30.9528</td>\n",
       "      <td>8.440807</td>\n",
       "      <td>18.0</td>\n",
       "      <td>24.0</td>\n",
       "      <td>30.0</td>\n",
       "      <td>37.0</td>\n",
       "      <td>65.0</td>\n",
       "    </tr>\n",
       "    <tr>\n",
       "      <td>зарплата</td>\n",
       "      <td>5000.0</td>\n",
       "      <td>39916.3600</td>\n",
       "      <td>9900.083569</td>\n",
       "      <td>5300.0</td>\n",
       "      <td>33300.0</td>\n",
       "      <td>40200.0</td>\n",
       "      <td>46600.0</td>\n",
       "      <td>79000.0</td>\n",
       "    </tr>\n",
       "    <tr>\n",
       "      <td>членысемьи</td>\n",
       "      <td>5000.0</td>\n",
       "      <td>1.1942</td>\n",
       "      <td>1.091387</td>\n",
       "      <td>0.0</td>\n",
       "      <td>0.0</td>\n",
       "      <td>1.0</td>\n",
       "      <td>2.0</td>\n",
       "      <td>6.0</td>\n",
       "    </tr>\n",
       "    <tr>\n",
       "      <td>страховыевыплаты</td>\n",
       "      <td>5000.0</td>\n",
       "      <td>0.1480</td>\n",
       "      <td>0.463183</td>\n",
       "      <td>0.0</td>\n",
       "      <td>0.0</td>\n",
       "      <td>0.0</td>\n",
       "      <td>0.0</td>\n",
       "      <td>5.0</td>\n",
       "    </tr>\n",
       "  </tbody>\n",
       "</table>\n",
       "</div>"
      ],
      "text/plain": [
       "                   count        mean          std     min      25%      50%  \\\n",
       "пол               5000.0      0.4990     0.500049     0.0      0.0      0.0   \n",
       "возраст           5000.0     30.9528     8.440807    18.0     24.0     30.0   \n",
       "зарплата          5000.0  39916.3600  9900.083569  5300.0  33300.0  40200.0   \n",
       "членысемьи        5000.0      1.1942     1.091387     0.0      0.0      1.0   \n",
       "страховыевыплаты  5000.0      0.1480     0.463183     0.0      0.0      0.0   \n",
       "\n",
       "                      75%      max  \n",
       "пол                   1.0      1.0  \n",
       "возраст              37.0     65.0  \n",
       "зарплата          46600.0  79000.0  \n",
       "членысемьи            2.0      6.0  \n",
       "страховыевыплаты      0.0      5.0  "
      ]
     },
     "metadata": {},
     "output_type": "display_data"
    },
    {
     "name": "stdout",
     "output_type": "stream",
     "text": [
      "['пол', 'возраст', 'зарплата', 'членысемьи', 'страховыевыплаты']\n"
     ]
    }
   ],
   "source": [
    "df = load_dataframe(filename = 'insurance.csv', file_path=file_path, showinfo=True, showdescribe=True, showcolumns=True)"
   ]
  },
  {
   "cell_type": "code",
   "execution_count": 5,
   "metadata": {},
   "outputs": [
    {
     "data": {
      "text/html": [
       "<div>\n",
       "<style scoped>\n",
       "    .dataframe tbody tr th:only-of-type {\n",
       "        vertical-align: middle;\n",
       "    }\n",
       "\n",
       "    .dataframe tbody tr th {\n",
       "        vertical-align: top;\n",
       "    }\n",
       "\n",
       "    .dataframe thead th {\n",
       "        text-align: right;\n",
       "    }\n",
       "</style>\n",
       "<table border=\"1\" class=\"dataframe\">\n",
       "  <thead>\n",
       "    <tr style=\"text-align: right;\">\n",
       "      <th></th>\n",
       "      <th>пол</th>\n",
       "      <th>возраст</th>\n",
       "      <th>зарплата</th>\n",
       "      <th>членысемьи</th>\n",
       "      <th>страховыевыплаты</th>\n",
       "    </tr>\n",
       "  </thead>\n",
       "  <tbody>\n",
       "    <tr>\n",
       "      <td>0</td>\n",
       "      <td>1</td>\n",
       "      <td>41.0</td>\n",
       "      <td>49600.0</td>\n",
       "      <td>1</td>\n",
       "      <td>0</td>\n",
       "    </tr>\n",
       "    <tr>\n",
       "      <td>1</td>\n",
       "      <td>0</td>\n",
       "      <td>46.0</td>\n",
       "      <td>38000.0</td>\n",
       "      <td>1</td>\n",
       "      <td>1</td>\n",
       "    </tr>\n",
       "    <tr>\n",
       "      <td>2</td>\n",
       "      <td>0</td>\n",
       "      <td>29.0</td>\n",
       "      <td>21000.0</td>\n",
       "      <td>0</td>\n",
       "      <td>0</td>\n",
       "    </tr>\n",
       "    <tr>\n",
       "      <td>3</td>\n",
       "      <td>0</td>\n",
       "      <td>21.0</td>\n",
       "      <td>41700.0</td>\n",
       "      <td>2</td>\n",
       "      <td>0</td>\n",
       "    </tr>\n",
       "    <tr>\n",
       "      <td>4</td>\n",
       "      <td>1</td>\n",
       "      <td>28.0</td>\n",
       "      <td>26100.0</td>\n",
       "      <td>0</td>\n",
       "      <td>0</td>\n",
       "    </tr>\n",
       "  </tbody>\n",
       "</table>\n",
       "</div>"
      ],
      "text/plain": [
       "   пол  возраст  зарплата  членысемьи  страховыевыплаты\n",
       "0    1     41.0   49600.0           1                 0\n",
       "1    0     46.0   38000.0           1                 1\n",
       "2    0     29.0   21000.0           0                 0\n",
       "3    0     21.0   41700.0           2                 0\n",
       "4    1     28.0   26100.0           0                 0"
      ]
     },
     "execution_count": 5,
     "metadata": {},
     "output_type": "execute_result"
    }
   ],
   "source": [
    "df.head()"
   ]
  },
  {
   "cell_type": "markdown",
   "metadata": {},
   "source": [
    "В данных есть повторы, но у нас нет оснований их удалять, т.к. это вполне могут быть люди с одинаковыми характеристиками.\n",
    "\n",
    "Посмотрим еще, нет ли мультиколлинеарности."
   ]
  },
  {
   "cell_type": "code",
   "execution_count": 6,
   "metadata": {},
   "outputs": [
    {
     "data": {
      "text/plain": [
       "<matplotlib.axes._subplots.AxesSubplot at 0x7f26e3e50690>"
      ]
     },
     "execution_count": 6,
     "metadata": {},
     "output_type": "execute_result"
    },
    {
     "data": {
      "image/png": "[encoded data removed]",
      "text/plain": [
       "<Figure size 864x576 with 1 Axes>"
      ]
     },
     "metadata": {},
     "output_type": "display_data"
    }
   ],
   "source": [
    "sns.scatterplot(data=df, x='возраст', y='зарплата')"
   ]
  },
  {
   "cell_type": "markdown",
   "metadata": {},
   "source": [
    "Вроде признаки независимы. Работаем дальше."
   ]
  },
  {
   "cell_type": "markdown",
   "metadata": {},
   "source": [
    "## Умножение матриц\n",
    "\n",
    "Докажем, что умножение матрицы признаков на квадратную обратимую матрицу не изменит результат работы линейной регрессии (на основе которой построена логистическая).\n",
    "\n",
    "На пальцах это можно доказать словами: умножение матрицы из N признаков на невырожденную квадратную матрицу тождественно переходу к новому базису в том же пространстве. То есть каждый новый столбец признаков (их тоже будет N штук) будет линейной комбинацией исходных признаков. А линейной регрессии именно это и надо.\n",
    "\n",
    "Для дальнейшего рассмотрения будем считать, что к нашей матрице признаков X уже добавлен столбец единиц, поэтому вектор смещений не учитываем.\n",
    "\n",
    "Линейная регрессия без модификации признаков:\n",
    "$$\n",
    "y_j = X_jw\n",
    "$$\n",
    "$$\n",
    "w = (X^T X)^{-1} X^T y\n",
    "$$\n",
    "\n",
    "Здесь нижний индекс $j$ обозначает тестовую выборку, а $Х$ без индекса обозначает обучающую выборку\n",
    "\n",
    "Модификация признаков будет заключаться в умножении матрицы признаков (и тестовой, и обучающей) на обратимую квадратную матрицу $А$ и получении новых матриц $X'$ и $X'_j$:\n",
    "$$\n",
    "X' = XA, \\quad X'_j = X_jA\n",
    "$$\n",
    "\n",
    "Таким образом, обучение модели на модифицированных признаках будет выглядеть так:\n",
    "$$\n",
    "w' = (X'^T X')^{-1} X'^T y = ((XA)^T (XA))^{-1} (XA)^T y\n",
    "$$\n",
    "\n",
    "Необходимо доказать, что:\n",
    "$$\n",
    "y_j = X_jw = X'_jw'\n",
    "$$\n",
    "\n",
    "Нам понадобятся формулы:\n",
    "$$\n",
    "(AB)^T = B^T A^T\n",
    "$$\n",
    "$$\n",
    "(AB)^{-1} = B^{-1} A^{-1}\n",
    "$$\n",
    "\n",
    "Упростим матрицу весов $w'$:\n",
    "$$\n",
    "w' = ((XA)^T (XA))^{-1} (XA)^T y = \\\\\n",
    "= (A^T (X^T X) A)^{-1} A^T X^T y = \\\\\n",
    "= (A^T ((X^T X) A))^{-1} A^T X^T y = \\\\\n",
    "= ((X^T X) A)^{-1} (A^T)^{-1} A^T X^T y = \\\\\n",
    "= ((X^T X) A)^{-1} X^T y = \\\\\n",
    "= A^{-1}(X^T X)^{-1} X^T y = \\\\\n",
    "= A^{-1} w\n",
    "$$\n",
    "\n",
    "А теперь доказываем равенство:\n",
    "$$\n",
    "X'_j w' = X_j A w' = X_j (A A^{-1}) w = X_j w\n",
    "$$\n",
    "\n",
    "Что и требовалось доказать."
   ]
  },
  {
   "cell_type": "markdown",
   "metadata": {},
   "source": [
    "**Вывод**\n",
    "\n",
    "Ответ на вопрос ТЗ \"Признаки умножают на обратимую матрицу. Изменится ли качество линейной регрессии? (Её можно обучить заново.)\"\n",
    "- Не изменится"
   ]
  },
  {
   "cell_type": "markdown",
   "metadata": {},
   "source": [
    "$$\n",
    "w' = ((XP)^T XP)^{-1} (XP)^T y\n",
    "$$\n",
    "$$\n",
    "w' = (P^T (X^T X) P)^{-1} (XP)^T y\n",
    "$$\n",
    "$$\n",
    ".....\n",
    "$$"
   ]
  },
  {
   "cell_type": "markdown",
   "metadata": {},
   "source": [
    "## Алгоритм преобразования"
   ]
  },
  {
   "cell_type": "markdown",
   "metadata": {},
   "source": [
    "**Алгоритм**\n",
    "\n",
    "- стандратизуем признаки\n",
    "- генерируем случайную (значения от 0 до 1) невырожденную квадратную матрицу А размером NxN, где N = количество исходных фич + 1 (помним, что целевой признак не считается фичей)\n",
    "- проверяем, что матрица обратима. Если нет - повторяем генерацию и проверку\n",
    "- умножаем стандартизованные признаки на матрицу А"
   ]
  },
  {
   "cell_type": "markdown",
   "metadata": {},
   "source": [
    "**Обоснование**\n",
    "\n",
    "По умолчанию нам достаточно сгенерировать невырожденную квадратную матрицу А размером NxN, где N = количество исходных фич + 1 (столбец сдвига), а затем умножить матрицу признаков на нее.\n",
    "\n",
    "Не любая матрица обратима. Необходимо выполнить проверку.\n",
    "\n",
    "На первый взгляд, конкретные значения в матрице А нам не очень важны - математика все стерпит.\n",
    "\n",
    "Но будет нюанс - если просто так выполнить преобразование, то столбцы с большими абсолютными значениями (например, зарплата) могут оказаться явно видимыми, просто с каким-то коэффициентом. Поэтому правильно было бы сначала выполнить стандартизацию, чтобы все признаки имели одинаковый масштаб, а затем уже умножение. Тем более, что стандартизация всегда полезна для линейных моделей."
   ]
  },
  {
   "cell_type": "markdown",
   "metadata": {},
   "source": [
    "## Проверка алгоритма"
   ]
  },
  {
   "cell_type": "markdown",
   "metadata": {},
   "source": [
    "### Генерация обратимой матрицы\n",
    "\n",
    "По идее можно было бы просто сгенерировать матрицу и потом проверить возможность ее обращения. Но мы попробуем усложнить себе задачу и выполнить \"сборку\" матрицы из трех: нижней треугольной, диагональной и верхней треугольной."
   ]
  },
  {
   "cell_type": "code",
   "execution_count": 7,
   "metadata": {},
   "outputs": [],
   "source": [
    "def gen_matrix(size):\n",
    "    L = np.tril(np.random.rand(size, size))\n",
    "    d = np.zeros((size, size), int)\n",
    "    np.fill_diagonal(d, 1)\n",
    "    D = np.random.rand(size, size) * d\n",
    "    U = np.triu(np.random.rand(size, size))\n",
    "    A = (L @ D) @ U\n",
    "    return A"
   ]
  },
  {
   "cell_type": "markdown",
   "metadata": {},
   "source": [
    "Сделаем это все в цикле, чтобы быть уверенными, что матрица обратима. Кроме того, поставим ограничения на значения всех элементов матриц, чтобы они были не слишком маленькими и не слишком большими."
   ]
  },
  {
   "cell_type": "code",
   "execution_count": 8,
   "metadata": {},
   "outputs": [
    {
     "name": "stdout",
     "output_type": "stream",
     "text": [
      "[[0.06848688 0.05228625 0.09241156 0.08531164 0.01169765]\n",
      " [0.18407257 0.48509049 0.8210958  0.42389206 0.15347556]\n",
      " [0.23336446 0.18738767 0.39523889 0.3491336  0.07170635]\n",
      " [0.14216705 0.35917358 0.6278911  0.50759141 0.49753852]\n",
      " [0.19767701 0.49863629 0.89078361 0.81184207 1.01264394]]\n"
     ]
    }
   ],
   "source": [
    "cont = True\n",
    "while cont:\n",
    "    size = len(df.columns)\n",
    "    A = gen_matrix(size)\n",
    "    try:\n",
    "        b = np.linalg.inv(A)\n",
    "        b = np.abs(b)\n",
    "        if np.min(b) > 1e-2 and np.max(b) < 1e2 and np.min(np.abs(A)) > 1e-2:\n",
    "            cont = False\n",
    "    except:\n",
    "        pass\n",
    "print(A)"
   ]
  },
  {
   "cell_type": "markdown",
   "metadata": {},
   "source": [
    "Вот наша матрица."
   ]
  },
  {
   "cell_type": "markdown",
   "metadata": {},
   "source": [
    "### Создание обучающей и тестовой выборок\n",
    "\n",
    "Мы планируем использовать линейную регрессию, которой не страшно переобучение, поэтому валидационную выборку делать не будем. Сделаем обучающую и тестовую, затем их обе стандартизуем (причем стандартскейлер будем использовать общий, обученный на обучающей выборке)."
   ]
  },
  {
   "cell_type": "code",
   "execution_count": 9,
   "metadata": {},
   "outputs": [
    {
     "data": {
      "text/plain": [
       "(4000, 4)"
      ]
     },
     "metadata": {},
     "output_type": "display_data"
    },
    {
     "data": {
      "text/plain": [
       "(1000, 4)"
      ]
     },
     "metadata": {},
     "output_type": "display_data"
    },
    {
     "data": {
      "text/plain": [
       "(4000,)"
      ]
     },
     "metadata": {},
     "output_type": "display_data"
    },
    {
     "data": {
      "text/plain": [
       "(1000,)"
      ]
     },
     "metadata": {},
     "output_type": "display_data"
    }
   ],
   "source": [
    "train = dict()\n",
    "test = dict()\n",
    "targets_df = df['страховыевыплаты']\n",
    "features_df = df[df.columns.drop('страховыевыплаты')]\n",
    "features = 'features'\n",
    "targets = 'targets'\n",
    "\n",
    "train[features], test[features], train[targets], test[targets] = model_selection.train_test_split(\n",
    "            features_df,\n",
    "            targets_df, \n",
    "            test_size = 0.2, \n",
    "            random_state=random_state, \n",
    "            shuffle=True,\n",
    "            )\n",
    "for i in [train[features], test[features], train[targets], test[targets]]:\n",
    "    display(i.shape)"
   ]
  },
  {
   "cell_type": "code",
   "execution_count": 10,
   "metadata": {},
   "outputs": [
    {
     "data": {
      "text/plain": [
       "array([[ 1.00300451, -0.47633617,  3.51170565, -1.09674864,  1.        ],\n",
       "       [ 1.00300451,  0.83121836, -1.16472637, -0.18488114,  1.        ],\n",
       "       [-0.99700449, -1.42728492, -0.3080524 , -0.18488114,  1.        ],\n",
       "       ...,\n",
       "       [-0.99700449, -0.71407336, -2.14234255,  0.72698637,  1.        ],\n",
       "       [-0.99700449,  0.1180068 , -1.69888779,  0.72698637,  1.        ],\n",
       "       [ 1.00300451,  1.18782414,  1.20372519, -1.09674864,  1.        ]])"
      ]
     },
     "execution_count": 10,
     "metadata": {},
     "output_type": "execute_result"
    }
   ],
   "source": [
    "scaler = preprocessing.StandardScaler()\n",
    "scaler.fit(train[features])\n",
    "train[features] = scaler.transform(train[features])\n",
    "test[features] = scaler.transform(test[features])\n",
    "train[features] = np.hstack((train[features], np.ones((train[features].shape[0], 1))))\n",
    "test[features] = np.hstack((test[features], np.ones((test[features].shape[0], 1))))\n",
    "test[features]"
   ]
  },
  {
   "cell_type": "markdown",
   "metadata": {},
   "source": [
    "### Линейная модель без обработки признаков\n",
    "\n",
    "Просто обучим и посмотрим."
   ]
  },
  {
   "cell_type": "code",
   "execution_count": 11,
   "metadata": {},
   "outputs": [
    {
     "data": {
      "text/plain": [
       "0.4458159095923542"
      ]
     },
     "execution_count": 11,
     "metadata": {},
     "output_type": "execute_result"
    }
   ],
   "source": [
    "model = linear_model.LinearRegression(fit_intercept=False)\n",
    "model.fit(train[features], train[targets])\n",
    "metrics.r2_score(test[targets], model.predict(test[features]))"
   ]
  },
  {
   "cell_type": "markdown",
   "metadata": {},
   "source": [
    "### Линейная модель с обработкой признаков\n",
    "\n",
    "Все то же самое, но массивы фичей умножим матрично на нашу матрицу А."
   ]
  },
  {
   "cell_type": "code",
   "execution_count": 12,
   "metadata": {},
   "outputs": [
    {
     "data": {
      "text/plain": [
       "0.4458159095923543"
      ]
     },
     "execution_count": 12,
     "metadata": {},
     "output_type": "execute_result"
    }
   ],
   "source": [
    "model = linear_model.LinearRegression(fit_intercept=False)\n",
    "model.fit(train[features] @ A, train[targets])\n",
    "metrics.r2_score(test[targets], model.predict(test[features] @ A))"
   ]
  },
  {
   "cell_type": "markdown",
   "metadata": {},
   "source": [
    "Видим, что метрика осталась прежней - качество модели не изменилось. Значит, идея работает."
   ]
  },
  {
   "cell_type": "markdown",
   "metadata": {},
   "source": [
    "## Бонус - распределение признаков \"до\" и \"после\"\n",
    "\n",
    "Вообще говоря, простейший вариант защиты данных - убрать названия столбцов. Но тогда остается уязвимость - по формам распределений можно угадать, что за данные там скрыты, причем стандартизация не поможет.\n",
    "\n",
    "Посмотрим, как выглядят распределения признаков до и после нашей \"Защиты\"."
   ]
  },
  {
   "cell_type": "code",
   "execution_count": 13,
   "metadata": {},
   "outputs": [
    {
     "data": {
      "image/png": "[encoded data removed]",
      "text/plain": [
       "<Figure size 576x576 with 4 Axes>"
      ]
     },
     "metadata": {},
     "output_type": "display_data"
    }
   ],
   "source": [
    "def plots(f):\n",
    "    fig = plt.figure(figsize=(8, 8))\n",
    "    for i in range(f.shape[1]):\n",
    "        plt.subplot(f.shape[1], 1, i+1)\n",
    "        plt.hist(x=f[:,i], bins=30)\n",
    "        plt.xlabel(f'Feature {i+1}')\n",
    "    fig.tight_layout()\n",
    "    plt.show()\n",
    "\n",
    "f = train[features][:, :-1]\n",
    "plots(f)"
   ]
  },
  {
   "cell_type": "markdown",
   "metadata": {},
   "source": [
    "Наверное, специалист в теме может что-то из этого вытащить."
   ]
  },
  {
   "cell_type": "code",
   "execution_count": 14,
   "metadata": {},
   "outputs": [
    {
     "data": {
      "image/png": "[encoded data removed]",
      "text/plain": [
       "<Figure size 576x576 with 5 Axes>"
      ]
     },
     "metadata": {},
     "output_type": "display_data"
    }
   ],
   "source": [
    "f = (train[features] @ A)\n",
    "plots(f)"
   ]
  },
  {
   "cell_type": "markdown",
   "metadata": {},
   "source": [
    "А вот тут все здорово - везде практически нормальные распределения, ничего не понятно. Разве что масштабы разные. Думаю, масштабы можно подкорректировать нормировкой столбцов матрицы А."
   ]
  },
  {
   "cell_type": "markdown",
   "metadata": {},
   "source": [
    "## Выводы\n",
    "\n",
    "- аналитически показано, что умножение матрицы признаков на обратимую матрицу не влияет на результат линейной регрессии\n",
    "- обучены модели линейной регрессии на исходных признаках и на признаках, умноженных на обратимую матрицу. Показано, что метрика качества не изменилась\n",
    "- показано, что после умножения исходных признаков на обратимую матрицу полученные признаки не несут в себе очевидного смысла, который мог бы раскрыть личные данные пользователей"
   ]
  }
 ],
 "metadata": {
  "ExecuteTimeLog": [
   {
    "duration": 1243,
    "start_time": "2022-03-08T11:16:43.533Z"
   },
   {
    "duration": 334,
    "start_time": "2022-03-08T11:16:44.779Z"
   },
   {
    "duration": 965,
    "start_time": "2022-03-08T11:16:44.151Z"
   },
   {
    "duration": 219,
    "start_time": "2022-03-08T11:16:45.814Z"
   },
   {
    "duration": 218,
    "start_time": "2022-03-08T11:16:46.961Z"
   },
   {
    "duration": 217,
    "start_time": "2022-03-08T11:16:47.649Z"
   },
   {
    "duration": 7,
    "start_time": "2022-03-08T11:17:11.988Z"
   },
   {
    "duration": 7,
    "start_time": "2022-03-08T11:18:30.283Z"
   },
   {
    "duration": 47,
    "start_time": "2022-03-08T11:18:32.855Z"
   },
   {
    "duration": 8,
    "start_time": "2022-03-08T11:18:37.766Z"
   },
   {
    "duration": 587,
    "start_time": "2022-03-08T11:18:38.701Z"
   },
   {
    "duration": 3,
    "start_time": "2022-03-08T11:22:12.470Z"
   },
   {
    "duration": 7,
    "start_time": "2022-03-08T11:22:15.334Z"
   },
   {
    "duration": 13,
    "start_time": "2022-03-08T11:23:04.670Z"
   },
   {
    "duration": 10,
    "start_time": "2022-03-08T11:23:05.422Z"
   },
   {
    "duration": 7,
    "start_time": "2022-03-08T11:23:07.303Z"
   },
   {
    "duration": 7,
    "start_time": "2022-03-08T11:23:08.302Z"
   },
   {
    "duration": 1619,
    "start_time": "2022-03-08T11:23:34.191Z"
   },
   {
    "duration": 1919,
    "start_time": "2022-03-08T11:23:35.830Z"
   },
   {
    "duration": 1187,
    "start_time": "2022-03-08T13:30:16.706Z"
   },
   {
    "duration": 282,
    "start_time": "2022-03-08T13:30:17.895Z"
   },
   {
    "duration": -2314,
    "start_time": "2022-03-08T13:30:20.493Z"
   },
   {
    "duration": -2320,
    "start_time": "2022-03-08T13:30:20.500Z"
   },
   {
    "duration": -2321,
    "start_time": "2022-03-08T13:30:20.502Z"
   },
   {
    "duration": -2322,
    "start_time": "2022-03-08T13:30:20.504Z"
   },
   {
    "duration": -2323,
    "start_time": "2022-03-08T13:30:20.506Z"
   },
   {
    "duration": -2325,
    "start_time": "2022-03-08T13:30:20.509Z"
   },
   {
    "duration": -2326,
    "start_time": "2022-03-08T13:30:20.511Z"
   },
   {
    "duration": -2328,
    "start_time": "2022-03-08T13:30:20.514Z"
   },
   {
    "duration": -2329,
    "start_time": "2022-03-08T13:30:20.516Z"
   },
   {
    "duration": -2330,
    "start_time": "2022-03-08T13:30:20.518Z"
   },
   {
    "duration": -2331,
    "start_time": "2022-03-08T13:30:20.520Z"
   },
   {
    "duration": -2332,
    "start_time": "2022-03-08T13:30:20.522Z"
   },
   {
    "duration": 1078,
    "start_time": "2022-03-08T13:31:20.405Z"
   },
   {
    "duration": 9,
    "start_time": "2022-03-08T13:31:21.485Z"
   },
   {
    "duration": 6,
    "start_time": "2022-03-08T13:31:21.496Z"
   },
   {
    "duration": 49,
    "start_time": "2022-03-08T13:31:21.504Z"
   },
   {
    "duration": 12,
    "start_time": "2022-03-08T13:31:21.554Z"
   },
   {
    "duration": 631,
    "start_time": "2022-03-08T13:31:21.567Z"
   },
   {
    "duration": 3,
    "start_time": "2022-03-08T13:31:22.200Z"
   },
   {
    "duration": 61,
    "start_time": "2022-03-08T13:31:22.205Z"
   },
   {
    "duration": 104,
    "start_time": "2022-03-08T13:31:22.268Z"
   },
   {
    "duration": 91,
    "start_time": "2022-03-08T13:31:22.373Z"
   },
   {
    "duration": 7,
    "start_time": "2022-03-08T13:31:22.466Z"
   },
   {
    "duration": 17,
    "start_time": "2022-03-08T13:31:22.474Z"
   },
   {
    "duration": 1599,
    "start_time": "2022-03-08T13:31:22.492Z"
   },
   {
    "duration": 1603,
    "start_time": "2022-03-08T13:31:24.093Z"
   }
  ],
  "kernelspec": {
   "display_name": "Python 3 (ipykernel)",
   "language": "python",
   "name": "python3"
  },
  "language_info": {
   "codemirror_mode": {
    "name": "ipython",
    "version": 3
   },
   "file_extension": ".py",
   "mimetype": "text/x-python",
   "name": "python",
   "nbconvert_exporter": "python",
   "pygments_lexer": "ipython3",
   "version": "3.9.10"
  },
  "toc": {
   "base_numbering": 1,
   "nav_menu": {},
   "number_sections": true,
   "sideBar": true,
   "skip_h1_title": true,
   "title_cell": "Содержание",
   "title_sidebar": "Contents",
   "toc_cell": true,
   "toc_position": {},
   "toc_section_display": true,
   "toc_window_display": true
  }
 },
 "nbformat": 4,
 "nbformat_minor": 2
}
