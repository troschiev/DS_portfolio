{
 "cells": [
  {
   "cell_type": "markdown",
   "metadata": {},
   "source": [
    "# Рекомендация тарифа клиенту мобильного оператора"
   ]
  },
  {
   "cell_type": "markdown",
   "metadata": {
    "toc": true
   },
   "source": [
    "<h1>Содержание<span class=\"tocSkip\"></span></h1>\n",
    "<div class=\"toc\"><ul class=\"toc-item\"><li><span><a href=\"#Введение\" data-toc-modified-id=\"Введение-1\"><span class=\"toc-item-num\">1&nbsp;&nbsp;</span>Введение</a></span></li><li><span><a href=\"#Импорт-и-знакомство-с-данными\" data-toc-modified-id=\"Импорт-и-знакомство-с-данными-2\"><span class=\"toc-item-num\">2&nbsp;&nbsp;</span>Импорт и знакомство с данными</a></span></li><li><span><a href=\"#EDA-(мини)\" data-toc-modified-id=\"EDA-(мини)-3\"><span class=\"toc-item-num\">3&nbsp;&nbsp;</span>EDA (мини)</a></span></li><li><span><a href=\"#Разбиение-данных-на-выборки-и-инжиниринг-признаков\" data-toc-modified-id=\"Разбиение-данных-на-выборки-и-инжиниринг-признаков-4\"><span class=\"toc-item-num\">4&nbsp;&nbsp;</span>Разбиение данных на выборки и инжиниринг признаков</a></span><ul class=\"toc-item\"><li><span><a href=\"#Выводы\" data-toc-modified-id=\"Выводы-4.1\"><span class=\"toc-item-num\">4.1&nbsp;&nbsp;</span>Выводы</a></span></li></ul></li><li><span><a href=\"#Исследование-моделей\" data-toc-modified-id=\"Исследование-моделей-5\"><span class=\"toc-item-num\">5&nbsp;&nbsp;</span>Исследование моделей</a></span><ul class=\"toc-item\"><li><span><a href=\"#Baseline-модель\" data-toc-modified-id=\"Baseline-модель-5.1\"><span class=\"toc-item-num\">5.1&nbsp;&nbsp;</span>Baseline модель</a></span></li><li><span><a href=\"#Логистическая-регрессия\" data-toc-modified-id=\"Логистическая-регрессия-5.2\"><span class=\"toc-item-num\">5.2&nbsp;&nbsp;</span>Логистическая регрессия</a></span></li><li><span><a href=\"#К-ближайших-соседей\" data-toc-modified-id=\"К-ближайших-соседей-5.3\"><span class=\"toc-item-num\">5.3&nbsp;&nbsp;</span>К-ближайших соседей</a></span></li><li><span><a href=\"#Решающее-дерево\" data-toc-modified-id=\"Решающее-дерево-5.4\"><span class=\"toc-item-num\">5.4&nbsp;&nbsp;</span>Решающее дерево</a></span></li><li><span><a href=\"#Наивный-Байес\" data-toc-modified-id=\"Наивный-Байес-5.5\"><span class=\"toc-item-num\">5.5&nbsp;&nbsp;</span>Наивный Байес</a></span></li><li><span><a href=\"#Метод-опорных-векторов\" data-toc-modified-id=\"Метод-опорных-векторов-5.6\"><span class=\"toc-item-num\">5.6&nbsp;&nbsp;</span>Метод опорных векторов</a></span></li><li><span><a href=\"#Случайный-лес\" data-toc-modified-id=\"Случайный-лес-5.7\"><span class=\"toc-item-num\">5.7&nbsp;&nbsp;</span>Случайный лес</a></span></li><li><span><a href=\"#Градиентный-бустинг\" data-toc-modified-id=\"Градиентный-бустинг-5.8\"><span class=\"toc-item-num\">5.8&nbsp;&nbsp;</span>Градиентный бустинг</a></span></li><li><span><a href=\"#Выводы\" data-toc-modified-id=\"Выводы-5.9\"><span class=\"toc-item-num\">5.9&nbsp;&nbsp;</span>Выводы</a></span></li></ul></li><li><span><a href=\"#Кросс-валидация\" data-toc-modified-id=\"Кросс-валидация-6\"><span class=\"toc-item-num\">6&nbsp;&nbsp;</span>Кросс-валидация</a></span></li><li><span><a href=\"#Стекинг\" data-toc-modified-id=\"Стекинг-7\"><span class=\"toc-item-num\">7&nbsp;&nbsp;</span>Стекинг</a></span></li><li><span><a href=\"#Общие-выводы\" data-toc-modified-id=\"Общие-выводы-8\"><span class=\"toc-item-num\">8&nbsp;&nbsp;</span>Общие выводы</a></span></li></ul></div>"
   ]
  },
  {
   "cell_type": "markdown",
   "metadata": {},
   "source": [
    "## Введение"
   ]
  },
  {
   "cell_type": "markdown",
   "metadata": {},
   "source": [
    "В нашем распоряжении данные о поведении клиентов, которые уже перешли на один из двух тарифов мобильного оператора. Нужно построить модель для задачи классификации, которая выберет подходящий тариф для клиентов оператора, использующих другие тарифы.\n",
    "\n",
    "Необходимо построить модель с максимально большим значением *accuracy* (доля верных ответов). Чтобы сдать проект успешно, нужно довести долю правильных ответов по крайней мере до 0.75."
   ]
  },
  {
   "cell_type": "markdown",
   "metadata": {},
   "source": [
    "## Импорт и знакомство с данными\n",
    "\n",
    "Технический блок импортов и глобальных параметров."
   ]
  },
  {
   "cell_type": "code",
   "execution_count": 1,
   "metadata": {},
   "outputs": [],
   "source": [
    "import warnings\n",
    "warnings.filterwarnings('ignore')\n",
    "import sys\n",
    "!{sys.executable} -m pip install -U seaborn --quiet --default-timeout=100 -i https://pypi.tuna.tsinghua.edu.cn/simple\n",
    "!{sys.executable} -m pip install -U xgboost --quiet --default-timeout=100 -i https://pypi.tuna.tsinghua.edu.cn/simple\n",
    "!{sys.executable} -m pip install -U sklearn --quiet --default-timeout=100 -i https://pypi.tuna.tsinghua.edu.cn/simple\n",
    "\n",
    "import six\n",
    "sys.modules['sklearn.externals.six'] = six\n",
    "import matplotlib.pyplot as plt\n",
    "import numpy as np\n",
    "import pandas as pd\n",
    "import seaborn as sns\n",
    "from sklearn import model_selection, tree, linear_model, metrics, ensemble, preprocessing, neighbors, naive_bayes, svm\n",
    "import xgboost as xgb\n",
    "import time\n",
    "\n",
    "sns.set()\n",
    "sns.set(rc = {'figure.figsize':(12,8)})\n",
    "sns.set_style(\"whitegrid\")\n",
    "sns.set_palette('pastel')\n",
    "plt.rcParams[\"figure.figsize\"] = (12, 8)\n",
    "\n",
    "random_state = 2077\n",
    "np.random.seed(seed=random_state)"
   ]
  },
  {
   "cell_type": "markdown",
   "metadata": {},
   "source": [
    "Загрузка файла и ознакомление с содержимым."
   ]
  },
  {
   "cell_type": "code",
   "execution_count": 2,
   "metadata": {},
   "outputs": [
    {
     "name": "stdout",
     "output_type": "stream",
     "text": [
      "Загружено с сервера\n"
     ]
    },
    {
     "data": {
      "text/html": [
       "<div>\n",
       "<style scoped>\n",
       "    .dataframe tbody tr th:only-of-type {\n",
       "        vertical-align: middle;\n",
       "    }\n",
       "\n",
       "    .dataframe tbody tr th {\n",
       "        vertical-align: top;\n",
       "    }\n",
       "\n",
       "    .dataframe thead th {\n",
       "        text-align: right;\n",
       "    }\n",
       "</style>\n",
       "<table border=\"1\" class=\"dataframe\">\n",
       "  <thead>\n",
       "    <tr style=\"text-align: right;\">\n",
       "      <th></th>\n",
       "      <th>calls</th>\n",
       "      <th>minutes</th>\n",
       "      <th>messages</th>\n",
       "      <th>mb_used</th>\n",
       "      <th>is_ultra</th>\n",
       "    </tr>\n",
       "  </thead>\n",
       "  <tbody>\n",
       "    <tr>\n",
       "      <td>0</td>\n",
       "      <td>40.0</td>\n",
       "      <td>311.90</td>\n",
       "      <td>83.0</td>\n",
       "      <td>19915.42</td>\n",
       "      <td>0</td>\n",
       "    </tr>\n",
       "    <tr>\n",
       "      <td>1</td>\n",
       "      <td>85.0</td>\n",
       "      <td>516.75</td>\n",
       "      <td>56.0</td>\n",
       "      <td>22696.96</td>\n",
       "      <td>0</td>\n",
       "    </tr>\n",
       "    <tr>\n",
       "      <td>2</td>\n",
       "      <td>77.0</td>\n",
       "      <td>467.66</td>\n",
       "      <td>86.0</td>\n",
       "      <td>21060.45</td>\n",
       "      <td>0</td>\n",
       "    </tr>\n",
       "    <tr>\n",
       "      <td>3</td>\n",
       "      <td>106.0</td>\n",
       "      <td>745.53</td>\n",
       "      <td>81.0</td>\n",
       "      <td>8437.39</td>\n",
       "      <td>1</td>\n",
       "    </tr>\n",
       "    <tr>\n",
       "      <td>4</td>\n",
       "      <td>66.0</td>\n",
       "      <td>418.74</td>\n",
       "      <td>1.0</td>\n",
       "      <td>14502.75</td>\n",
       "      <td>0</td>\n",
       "    </tr>\n",
       "  </tbody>\n",
       "</table>\n",
       "</div>"
      ],
      "text/plain": [
       "   calls  minutes  messages   mb_used  is_ultra\n",
       "0   40.0   311.90      83.0  19915.42         0\n",
       "1   85.0   516.75      56.0  22696.96         0\n",
       "2   77.0   467.66      86.0  21060.45         0\n",
       "3  106.0   745.53      81.0   8437.39         1\n",
       "4   66.0   418.74       1.0  14502.75         0"
      ]
     },
     "metadata": {},
     "output_type": "display_data"
    },
    {
     "name": "stdout",
     "output_type": "stream",
     "text": [
      "<class 'pandas.core.frame.DataFrame'>\n",
      "RangeIndex: 3214 entries, 0 to 3213\n",
      "Data columns (total 5 columns):\n",
      "calls       3214 non-null float64\n",
      "minutes     3214 non-null float64\n",
      "messages    3214 non-null float64\n",
      "mb_used     3214 non-null float64\n",
      "is_ultra    3214 non-null int64\n",
      "dtypes: float64(4), int64(1)\n",
      "memory usage: 125.7 KB\n"
     ]
    },
    {
     "data": {
      "text/plain": [
       "None"
      ]
     },
     "metadata": {},
     "output_type": "display_data"
    },
    {
     "data": {
      "text/html": [
       "<div>\n",
       "<style scoped>\n",
       "    .dataframe tbody tr th:only-of-type {\n",
       "        vertical-align: middle;\n",
       "    }\n",
       "\n",
       "    .dataframe tbody tr th {\n",
       "        vertical-align: top;\n",
       "    }\n",
       "\n",
       "    .dataframe thead th {\n",
       "        text-align: right;\n",
       "    }\n",
       "</style>\n",
       "<table border=\"1\" class=\"dataframe\">\n",
       "  <thead>\n",
       "    <tr style=\"text-align: right;\">\n",
       "      <th></th>\n",
       "      <th>calls</th>\n",
       "      <th>minutes</th>\n",
       "      <th>messages</th>\n",
       "      <th>mb_used</th>\n",
       "      <th>is_ultra</th>\n",
       "    </tr>\n",
       "  </thead>\n",
       "  <tbody>\n",
       "    <tr>\n",
       "      <td>count</td>\n",
       "      <td>3214.000000</td>\n",
       "      <td>3214.000000</td>\n",
       "      <td>3214.000000</td>\n",
       "      <td>3214.000000</td>\n",
       "      <td>3214.000000</td>\n",
       "    </tr>\n",
       "    <tr>\n",
       "      <td>mean</td>\n",
       "      <td>63.038892</td>\n",
       "      <td>438.208787</td>\n",
       "      <td>38.281269</td>\n",
       "      <td>17207.673836</td>\n",
       "      <td>0.306472</td>\n",
       "    </tr>\n",
       "    <tr>\n",
       "      <td>std</td>\n",
       "      <td>33.236368</td>\n",
       "      <td>234.569872</td>\n",
       "      <td>36.148326</td>\n",
       "      <td>7570.968246</td>\n",
       "      <td>0.461100</td>\n",
       "    </tr>\n",
       "    <tr>\n",
       "      <td>min</td>\n",
       "      <td>0.000000</td>\n",
       "      <td>0.000000</td>\n",
       "      <td>0.000000</td>\n",
       "      <td>0.000000</td>\n",
       "      <td>0.000000</td>\n",
       "    </tr>\n",
       "    <tr>\n",
       "      <td>25%</td>\n",
       "      <td>40.000000</td>\n",
       "      <td>274.575000</td>\n",
       "      <td>9.000000</td>\n",
       "      <td>12491.902500</td>\n",
       "      <td>0.000000</td>\n",
       "    </tr>\n",
       "    <tr>\n",
       "      <td>50%</td>\n",
       "      <td>62.000000</td>\n",
       "      <td>430.600000</td>\n",
       "      <td>30.000000</td>\n",
       "      <td>16943.235000</td>\n",
       "      <td>0.000000</td>\n",
       "    </tr>\n",
       "    <tr>\n",
       "      <td>75%</td>\n",
       "      <td>82.000000</td>\n",
       "      <td>571.927500</td>\n",
       "      <td>57.000000</td>\n",
       "      <td>21424.700000</td>\n",
       "      <td>1.000000</td>\n",
       "    </tr>\n",
       "    <tr>\n",
       "      <td>max</td>\n",
       "      <td>244.000000</td>\n",
       "      <td>1632.060000</td>\n",
       "      <td>224.000000</td>\n",
       "      <td>49745.730000</td>\n",
       "      <td>1.000000</td>\n",
       "    </tr>\n",
       "  </tbody>\n",
       "</table>\n",
       "</div>"
      ],
      "text/plain": [
       "             calls      minutes     messages       mb_used     is_ultra\n",
       "count  3214.000000  3214.000000  3214.000000   3214.000000  3214.000000\n",
       "mean     63.038892   438.208787    38.281269  17207.673836     0.306472\n",
       "std      33.236368   234.569872    36.148326   7570.968246     0.461100\n",
       "min       0.000000     0.000000     0.000000      0.000000     0.000000\n",
       "25%      40.000000   274.575000     9.000000  12491.902500     0.000000\n",
       "50%      62.000000   430.600000    30.000000  16943.235000     0.000000\n",
       "75%      82.000000   571.927500    57.000000  21424.700000     1.000000\n",
       "max     244.000000  1632.060000   224.000000  49745.730000     1.000000"
      ]
     },
     "metadata": {},
     "output_type": "display_data"
    }
   ],
   "source": [
    "filename = 'users_behavior.csv'\n",
    "file_path = 'H:/Google_d/2021_ШАД/Yandex - project 6/'\n",
    "try:\n",
    "    df = pd.read_csv('/datasets/' + filename, sep=',')  # Серверный путь\n",
    "    print('Загружено с сервера')\n",
    "except:\n",
    "    try:\n",
    "        df = pd.read_csv(file_path + filename, sep=',')  # Локальный путь\n",
    "        print('Загружено с локального диска')\n",
    "    except:\n",
    "        try:\n",
    "            from google.colab import drive\n",
    "            drive.mount('/content/drive')\n",
    "            df = pd.read_csv('/content/drive/MyDrive/2021_ШАД/Yandex - project 6/' + filename, sep=',')  # Локальный путь\n",
    "            print('Загружено с гугл-диска')\n",
    "        except: 1;\n",
    "display(df.head())\n",
    "display(df.info())\n",
    "display(df.describe(include='all'))"
   ]
  },
  {
   "cell_type": "markdown",
   "metadata": {},
   "source": [
    "- в данных нет пропусков и отрицательных значений, максимальные значение тоже адекватны\n",
    "- есть небольшой дисбаланс классов - класс \"ультра\" составляет всего 30% от выборки"
   ]
  },
  {
   "cell_type": "code",
   "execution_count": 3,
   "metadata": {},
   "outputs": [],
   "source": [
    "calls = 'calls'\n",
    "minutes = 'minutes'\n",
    "messages = 'messages'\n",
    "mb_used = 'mb_used'\n",
    "is_ultra = 'is_ultra'\n",
    "features = 'features'\n",
    "targets = 'targets'"
   ]
  },
  {
   "cell_type": "markdown",
   "metadata": {},
   "source": [
    "## EDA (мини)\n",
    "\n",
    "Проведем поверхностный анализ - просто чтобы понимать, что анализируем."
   ]
  },
  {
   "cell_type": "code",
   "execution_count": 4,
   "metadata": {},
   "outputs": [
    {
     "data": {
      "image/png": "[encoded data removed]",
      "text/plain": [
       "<Figure size 1152x1080 with 4 Axes>"
      ]
     },
     "metadata": {},
     "output_type": "display_data"
    }
   ],
   "source": [
    "fig, ax = plt.subplots(2, 2, figsize=(16,15))\n",
    "\n",
    "sns.histplot(ax=ax[0,0], data=df, x=calls, hue=is_ultra)\n",
    "sns.histplot(ax=ax[0,1], data=df, x=minutes, hue=is_ultra)\n",
    "sns.histplot(ax=ax[1,0], data=df, x=messages, hue=is_ultra)\n",
    "sns.histplot(ax=ax[1,1], data=df, x=mb_used, hue=is_ultra);"
   ]
  },
  {
   "cell_type": "markdown",
   "metadata": {},
   "source": [
    "Радует, что все гистограммы для разных тарифов выглядят по-разному, то есть каждый признак небесполезен.\n",
    "Лучше того - большинство распределений очень похожи на нормальные (правда, с избытком нулей). Впрочем, нас пока не учили тому, важна ли нормальность...\n",
    "\n",
    "Посмотрим еще на корреляции этих признаков."
   ]
  },
  {
   "cell_type": "code",
   "execution_count": 5,
   "metadata": {},
   "outputs": [
    {
     "data": {
      "image/png": "[encoded data removed]",
      "text/plain": [
       "<Figure size 864x576 with 1 Axes>"
      ]
     },
     "metadata": {},
     "output_type": "display_data"
    }
   ],
   "source": [
    "sns.heatmap(data=df.corr(),\n",
    "            square=True, cmap=\"PiYG\", \n",
    "            center=0,\n",
    "            cbar=False,\n",
    "            annot=True, fmt='.2f', annot_kws={'size': 15});"
   ]
  },
  {
   "cell_type": "markdown",
   "metadata": {},
   "source": [
    "Тут сразу видно, что между количеством звонков и количеством минут есть сильная корреляция. Вероятно, лучше будет убрать один из этих признаков. Потом поэкспериментируем."
   ]
  },
  {
   "cell_type": "markdown",
   "metadata": {},
   "source": [
    "## Разбиение данных на выборки и инжиниринг признаков\n",
    "\n",
    "Выделим 25% всех данных в качестве отложенной тестовой выборки. Так как наши объекты (строки) независимы и не связаны во времени, то будем случайно перемешивать их. Выборку сделаем стратифицированной. Посмотрим на размеры получившихся выборок.\n",
    "\n",
    "Кроме того сразу сделаем новые признаки:\n",
    "- все попарные произведения величин\n",
    "- логарифмы величин\n",
    "- категориальные признаки для нулевых значений каждого столбца"
   ]
  },
  {
   "cell_type": "code",
   "execution_count": 6,
   "metadata": {},
   "outputs": [
    {
     "data": {
      "text/plain": [
       "(2410, 28)"
      ]
     },
     "metadata": {},
     "output_type": "display_data"
    },
    {
     "data": {
      "text/plain": [
       "(804, 28)"
      ]
     },
     "metadata": {},
     "output_type": "display_data"
    },
    {
     "data": {
      "text/plain": [
       "(2410,)"
      ]
     },
     "metadata": {},
     "output_type": "display_data"
    },
    {
     "data": {
      "text/plain": [
       "(804,)"
      ]
     },
     "metadata": {},
     "output_type": "display_data"
    }
   ],
   "source": [
    "train_full = dict()\n",
    "test = dict()\n",
    "targets_df = df[is_ultra]\n",
    "features_df = df[df.columns.drop(is_ultra)]\n",
    "\n",
    "base_features_list = features_df.columns.tolist()\n",
    "polynom_features_list = []\n",
    "log_features_list = []\n",
    "is_zero_features_list = []\n",
    "\n",
    "for i in base_features_list:\n",
    "    for j in base_features_list:\n",
    "        features_df[i+'*'+j] = features_df[i] * features_df[j]\n",
    "        polynom_features_list.append(i+'*'+j)\n",
    "        \n",
    "for i in base_features_list:\n",
    "    features_df[i+'_log'] = np.log(features_df[i]+0.01)\n",
    "    log_features_list.append(i+'_log')\n",
    "\n",
    "for i in base_features_list:\n",
    "    features_df[i+'_is_zero'] = (features_df[i] == 0).astype('int8')\n",
    "    is_zero_features_list.append(i+'_is_zero')\n",
    "\n",
    "train_full[features], test[features], train_full[targets], test[targets] = model_selection.train_test_split(\n",
    "            features_df,\n",
    "            targets_df, \n",
    "            test_size = 0.25, \n",
    "            random_state=random_state, \n",
    "            shuffle=True,\n",
    "            stratify=targets_df\n",
    "            )\n",
    "for i in [train_full[features], test[features], train_full[targets], test[targets]]:\n",
    "    display(i.shape)"
   ]
  },
  {
   "cell_type": "markdown",
   "metadata": {},
   "source": [
    "Стандартизуем признаки, причем скейлер будем настраивать только по тренировочному набору (словно тестовый появится только в будущем, а в будущее мы не можем заглядывать)."
   ]
  },
  {
   "cell_type": "code",
   "execution_count": 7,
   "metadata": {},
   "outputs": [],
   "source": [
    "quant_cols = train_full[features].drop(columns=is_zero_features_list).columns.tolist()\n",
    "scaler = preprocessing.StandardScaler().fit(train_full[features][quant_cols])\n",
    "\n",
    "quant_featured = pd.DataFrame(\n",
    "    scaler.transform(train_full[features][quant_cols]), \n",
    "    columns=train_full[features][quant_cols].columns)\n",
    "\n",
    "train_full[features] = pd.concat([\n",
    "    quant_featured,\n",
    "    train_full[features][is_zero_features_list].reset_index(drop=True),\n",
    "    ], axis=1)\n",
    "\n",
    "quant_featured = pd.DataFrame(\n",
    "    scaler.transform(test[features][quant_cols]), \n",
    "    columns=test[features][quant_cols].columns)\n",
    "\n",
    "test[features] = pd.concat([\n",
    "    quant_featured,\n",
    "    test[features][is_zero_features_list].reset_index(drop=True),\n",
    "    ], axis=1)"
   ]
  },
  {
   "cell_type": "markdown",
   "metadata": {},
   "source": [
    "Выборку test отложим на потом. Будем по ней проверять наши лучшие модели (как на каггле).\n",
    "\n",
    "Теперь разобьем остаток на обучающую и валидационную выборки в той же пропорции."
   ]
  },
  {
   "cell_type": "code",
   "execution_count": 8,
   "metadata": {},
   "outputs": [
    {
     "data": {
      "text/plain": [
       "(1807, 28)"
      ]
     },
     "metadata": {},
     "output_type": "display_data"
    },
    {
     "data": {
      "text/plain": [
       "(603, 28)"
      ]
     },
     "metadata": {},
     "output_type": "display_data"
    },
    {
     "data": {
      "text/plain": [
       "(1807,)"
      ]
     },
     "metadata": {},
     "output_type": "display_data"
    },
    {
     "data": {
      "text/plain": [
       "(603,)"
      ]
     },
     "metadata": {},
     "output_type": "display_data"
    }
   ],
   "source": [
    "train = dict()\n",
    "valid = dict()\n",
    "\n",
    "train[features], valid[features], train[targets], valid[targets] = model_selection.train_test_split(\n",
    "            train_full[features],\n",
    "            train_full[targets], \n",
    "            test_size = 0.25, \n",
    "            random_state=random_state, \n",
    "            shuffle=True,\n",
    "            stratify=train_full[targets]\n",
    "            )\n",
    "for i in [train[features], valid[features], train[targets], valid[targets]]:\n",
    "    display(i.shape)"
   ]
  },
  {
   "cell_type": "code",
   "execution_count": 9,
   "metadata": {},
   "outputs": [
    {
     "data": {
      "image/png": "[encoded data removed]",
      "text/plain": [
       "<Figure size 864x576 with 1 Axes>"
      ]
     },
     "metadata": {},
     "output_type": "display_data"
    }
   ],
   "source": [
    "dat = pd.DataFrame()\n",
    "for a, name in zip([targets_df, train[targets], valid[targets], test[targets]],\n",
    "                   ['все данные', 'обучение', 'валидация', 'тест']):\n",
    "    df = a.value_counts()\n",
    "    df = pd.DataFrame(df)\n",
    "    df['выборка'] = name\n",
    "    dat = dat.append(df)\n",
    "dat = dat.reset_index().rename(columns={'is_ultra': 'количество'})\n",
    "dat['тариф'] = dat['index']\n",
    "ax=sns.barplot(data=dat, x='выборка', y='количество', hue='тариф')\n",
    "ax.set(title='Количество объектов разных классов во всех созданных выборках');"
   ]
  },
  {
   "cell_type": "markdown",
   "metadata": {},
   "source": [
    "### Выводы\n",
    "\n",
    "Сгенерировали новые признаки:\n",
    "- полиномиальные (попарные произведения всех исходных признаков, включая квадраты)\n",
    "- логарифмические (по одному на каждый из исходных признаков)\n",
    "- категориальные, свидетельствующие о нулевых значениях исходных признаков\n",
    "\n",
    "Стандартизировали новые признаки (кроме категориальных).\n",
    "\n",
    "В исходных данных было 3214 объекта. Разбили их на:\n",
    "- отложенную тестовую выборку - 804\n",
    "- валидационную выборку - 603\n",
    "- обучающую выборку - 1807\n",
    "\n",
    "Все выборки стратифицированы."
   ]
  },
  {
   "cell_type": "markdown",
   "metadata": {},
   "source": [
    "## Исследование моделей"
   ]
  },
  {
   "cell_type": "markdown",
   "metadata": {},
   "source": [
    "### Baseline модель\n",
    "\n",
    "Для проверки адекватности модели рассмотрим две бейзлайн модели:\n",
    "- выдача 1/0, исходя из доли этих классов в обучающей выборке\n",
    "- выдача всегда 0, потому что 0 - наиболее популярный класс"
   ]
  },
  {
   "cell_type": "code",
   "execution_count": 10,
   "metadata": {},
   "outputs": [
    {
     "name": "stdout",
     "output_type": "stream",
     "text": [
      "Точность случайного алгоритма: 56.38%\n",
      "Точность алгоритма, выдающего нули: 69.32%\n"
     ]
    }
   ],
   "source": [
    "p = train[targets].value_counts()[1] / train[targets].count()\n",
    "l = len(valid[targets])\n",
    "baseline_prediction = np.random.binomial(1, p, l)\n",
    "baseline_acc1 = metrics.accuracy_score(valid[targets], baseline_prediction)\n",
    "baseline_acc2 = metrics.accuracy_score(valid[targets], [0]*len(valid[targets]))\n",
    "print(f'Точность случайного алгоритма: {baseline_acc1:.2%}')\n",
    "print(f'Точность алгоритма, выдающего нули: {baseline_acc2:.2%}')"
   ]
  },
  {
   "cell_type": "markdown",
   "metadata": {},
   "source": [
    "Далее будем считать, что все результаты ниже 69% неадекватны."
   ]
  },
  {
   "cell_type": "markdown",
   "metadata": {},
   "source": [
    "### Логистическая регрессия\n",
    "\n",
    "Начнем с самого \"прямолинейного\". Используем только базовые признаки и не будем задавать гиперпараметры.\n",
    "\n",
    "Т.к. запусков будет много, создадим универсальную функцию."
   ]
  },
  {
   "cell_type": "code",
   "execution_count": 11,
   "metadata": {},
   "outputs": [],
   "source": [
    "def run_fit(model, train, valid, features_list=False, verbose=False, plot=False):\n",
    "    if not features_list:\n",
    "        features_list = valid[features].columns.tolist()\n",
    "    model.fit(train[features][features_list], train[targets])\n",
    "    predictions = model.predict(valid[features][features_list])\n",
    "    acc = metrics.accuracy_score(valid[targets], predictions)\n",
    "    print(f'Доля верных ответов (обучение): {metrics.accuracy_score(train[targets], model.predict(train[features][features_list])):.2%}')\n",
    "    print(f'Доля верных ответов (валидация): {acc:.2%}')\n",
    "    model_name = str(type(model)).split('.')[-1]\n",
    "    \n",
    "    if 'LogisticRegression' in model_name:\n",
    "        coef = pd.Series(index=train[features][features_list].columns, data=model_lin.coef_[0]).round(2)\n",
    "        print(f'Количество ненулевых коэффициентов регрессии: {coef[coef != 0].count()} из {coef.count()}')\n",
    "        if verbose:\n",
    "            print('Коэффициенты линейной регрессии:')\n",
    "            display(coef.sort_values(ascending=False))\n",
    "        return(coef)"
   ]
  },
  {
   "cell_type": "code",
   "execution_count": 12,
   "metadata": {},
   "outputs": [
    {
     "name": "stdout",
     "output_type": "stream",
     "text": [
      "Доля верных ответов (обучение): 74.76%\n",
      "Доля верных ответов (валидация): 72.64%\n",
      "Количество ненулевых коэффициентов регрессии: 4 из 4\n",
      "Коэффициенты линейной регрессии:\n"
     ]
    },
    {
     "data": {
      "text/plain": [
       "messages    0.33\n",
       "mb_used     0.31\n",
       "minutes     0.26\n",
       "calls       0.10\n",
       "dtype: float64"
      ]
     },
     "metadata": {},
     "output_type": "display_data"
    }
   ],
   "source": [
    "model_lin = linear_model.LogisticRegression(random_state=random_state, solver='saga')\n",
    "run_fit(model_lin, train, valid, base_features_list, verbose=True);"
   ]
  },
  {
   "cell_type": "markdown",
   "metadata": {},
   "source": [
    "Уже лучше, чем бэйзлайн.\n",
    "\n",
    "Попробуем использовать все сгенерированные ранее признаки."
   ]
  },
  {
   "cell_type": "code",
   "execution_count": 13,
   "metadata": {},
   "outputs": [
    {
     "name": "stdout",
     "output_type": "stream",
     "text": [
      "Доля верных ответов (обучение): 80.24%\n",
      "Доля верных ответов (валидация): 79.60%\n",
      "Количество ненулевых коэффициентов регрессии: 28 из 28\n"
     ]
    }
   ],
   "source": [
    "model_lin = linear_model.LogisticRegression(random_state=random_state, solver='saga')\n",
    "run_fit(model_lin, train, valid, verbose=False);"
   ]
  },
  {
   "cell_type": "markdown",
   "metadata": {},
   "source": [
    "Выиграли несколько процентов! Но при этом мы использовали огромное количество признаков, которые могут коррелировать между собой, что вряд ли полезно для линейной модели. Можно попробовать улучшить результат, убрав ненужные признаки."
   ]
  },
  {
   "cell_type": "markdown",
   "metadata": {},
   "source": [
    "Например, удалим все столбцы, в которых есть данные о количестве звонков (помним, что они сильно коррелируют с минутами разговоров)."
   ]
  },
  {
   "cell_type": "code",
   "execution_count": 14,
   "metadata": {},
   "outputs": [
    {
     "name": "stdout",
     "output_type": "stream",
     "text": [
      "Доля верных ответов (обучение): 80.02%\n",
      "Доля верных ответов (валидация): 80.43%\n",
      "Количество ненулевых коэффициентов регрессии: 19 из 19\n"
     ]
    }
   ],
   "source": [
    "list_no_calls = train[features].columns.tolist()\n",
    "list_no_calls = [i for i in list_no_calls if 'calls' not in i]\n",
    "list_no_calls.append('calls_is_zero')\n",
    "\n",
    "model_lin = linear_model.LogisticRegression(random_state=random_state)\n",
    "run_fit(model_lin, train, valid, features_list=list_no_calls, verbose=False);"
   ]
  },
  {
   "cell_type": "markdown",
   "metadata": {},
   "source": [
    "Видим, что стало лучше (хотя без кросс-валидации такую оценку делать опасно).\n",
    "\n",
    "Попробуем посмотреть на коэффициенты корреляции признаков."
   ]
  },
  {
   "cell_type": "code",
   "execution_count": 15,
   "metadata": {},
   "outputs": [
    {
     "data": {
      "image/png": "[encoded data removed]",
      "text/plain": [
       "<Figure size 864x576 with 2 Axes>"
      ]
     },
     "metadata": {},
     "output_type": "display_data"
    }
   ],
   "source": [
    "sns.heatmap(data=train[features].corr(),\n",
    "            square=True, cmap=\"PiYG\", \n",
    "            center=0,\n",
    "            );"
   ]
  },
  {
   "cell_type": "markdown",
   "metadata": {},
   "source": [
    "Очевидно, многие из них сильно коррелируют друг с другом, что логично - мы же получали их всего из 4-мерного пространства, комбинируя друг с другом.\n",
    "\n",
    "Попробуем выполнить отбор признаков регуляризатором l1 в логистической регрессии."
   ]
  },
  {
   "cell_type": "code",
   "execution_count": 16,
   "metadata": {},
   "outputs": [
    {
     "name": "stdout",
     "output_type": "stream",
     "text": [
      "Доля верных ответов (обучение): 79.69%\n",
      "Доля верных ответов (валидация): 79.77%\n",
      "Количество ненулевых коэффициентов регрессии: 15 из 28\n",
      "Коэффициенты линейной регрессии:\n"
     ]
    },
    {
     "data": {
      "text/plain": [
       "mb_used*mb_used      2.12\n",
       "messages*messages    1.00\n",
       "calls*calls          0.62\n",
       "calls*minutes        0.38\n",
       "minutes*calls        0.38\n",
       "minutes*minutes      0.09\n",
       "mb_used_is_zero      0.00\n",
       "minutes              0.00\n",
       "messages             0.00\n",
       "minutes*messages     0.00\n",
       "minutes*mb_used      0.00\n",
       "messages_is_zero     0.00\n",
       "messages*minutes     0.00\n",
       "messages*mb_used    -0.00\n",
       "mb_used*minutes      0.00\n",
       "mb_used*messages    -0.00\n",
       "calls_is_zero        0.00\n",
       "minutes_is_zero      0.00\n",
       "calls                0.00\n",
       "calls_log           -0.14\n",
       "mb_used_log         -0.19\n",
       "minutes_log         -0.20\n",
       "messages*calls      -0.21\n",
       "calls*messages      -0.21\n",
       "messages_log        -0.27\n",
       "mb_used*calls       -0.39\n",
       "calls*mb_used       -0.39\n",
       "mb_used             -1.14\n",
       "dtype: float64"
      ]
     },
     "metadata": {},
     "output_type": "display_data"
    }
   ],
   "source": [
    "model_lin = linear_model.LogisticRegression(random_state=random_state, penalty='l1', solver='saga', C=0.175)\n",
    "coef = run_fit(model_lin, train, valid, verbose=True)\n",
    "coef = coef[coef != 0]\n",
    "features_effective_list = coef.index.tolist()"
   ]
  },
  {
   "cell_type": "markdown",
   "metadata": {},
   "source": [
    "Ну в целом ~80% - очень неплохо для линейной модели."
   ]
  },
  {
   "cell_type": "markdown",
   "metadata": {},
   "source": [
    "Попробуем еще покрутить решатели и регуляризаторы для практики.\n",
    "\n",
    "Но для начала сделаем для этого функцию."
   ]
  },
  {
   "cell_type": "code",
   "execution_count": 17,
   "metadata": {},
   "outputs": [],
   "source": [
    "def run_param_grid(model_func, p_list, train, valid, feature_list=False):\n",
    "    if feature_list == False:\n",
    "        feature_list = train[features].columns\n",
    "    best_score = 0\n",
    "    train_score = 0\n",
    "    for p in p_list:\n",
    "        try:\n",
    "            try:\n",
    "                model = model_func(random_state=random_state, **p)\n",
    "            except:\n",
    "                model = model_func(**p)\n",
    "            model.fit(train[features][feature_list], train[targets])\n",
    "            acc = model.score(valid[features][feature_list], valid[targets])\n",
    "            if acc > best_score:\n",
    "                best_score = acc\n",
    "                train_score = model.score(train[features][feature_list], train[targets])\n",
    "                best_parameters = p\n",
    "                best_model = model\n",
    "        except Exception as e:\n",
    "            # print(e)\n",
    "            1;\n",
    "    print(f'Лучшие гиперпараметры: \\nдоля верных ответов (обучение): {train_score:.2%}\\nдоля верных ответов (валидация): {best_score:.2%}\\nпараметры: {best_parameters}')\n",
    "    return(best_model)"
   ]
  },
  {
   "cell_type": "markdown",
   "metadata": {},
   "source": [
    "Начинаем крутить."
   ]
  },
  {
   "cell_type": "code",
   "execution_count": 18,
   "metadata": {},
   "outputs": [
    {
     "name": "stdout",
     "output_type": "stream",
     "text": [
      "Лучшие гиперпараметры: \n",
      "доля верных ответов (обучение): 79.63%\n",
      "доля верных ответов (валидация): 79.93%\n",
      "параметры: {'C': 0.1668100537200059, 'penalty': 'l1', 'solver': 'saga'}\n",
      "CPU times: user 30.3 s, sys: 27.6 s, total: 57.9 s\n",
      "Wall time: 58 s\n"
     ]
    }
   ],
   "source": [
    "%%time\n",
    "model = linear_model.LogisticRegression\n",
    "p_list = model_selection.ParameterGrid({\n",
    "                                'penalty': ['none', 'l1', 'l2'],\n",
    "                                'solver': ['newton-cg', 'lbfgs', 'liblinear', 'sag', 'saga'],\n",
    "                                'C': np.logspace(-3, 1, num=10),\n",
    "})\n",
    "best_model = run_param_grid(model, p_list, train, valid)"
   ]
  },
  {
   "cell_type": "markdown",
   "metadata": {},
   "source": [
    "Будем считать, что мы достигли максимума с логистической регрессией в таком примитивном подходе. В конце проекта сделаем все с кросс-валидацией.\n",
    "\n",
    "Проверим на тестовой выборке."
   ]
  },
  {
   "cell_type": "code",
   "execution_count": 19,
   "metadata": {},
   "outputs": [
    {
     "name": "stdout",
     "output_type": "stream",
     "text": [
      "Доля верных ответов (тест): 81.09%\n"
     ]
    }
   ],
   "source": [
    "predictions = best_model.predict(test[features])\n",
    "print(f'Доля верных ответов (тест): {metrics.accuracy_score(test[targets], predictions):.2%}')"
   ]
  },
  {
   "cell_type": "markdown",
   "metadata": {},
   "source": [
    "Лучше, чем на обучении! Запомним и двинемся дальше."
   ]
  },
  {
   "cell_type": "markdown",
   "metadata": {},
   "source": [
    "### К-ближайших соседей\n",
    "\n",
    "У нас стандартизованное пространство признаков, и я пока не совсем понимаю, насколько это хорошо. По идее некоторые признаки должны обладать большим весом. Не будем этим заниматься в рамках текущего проекта."
   ]
  },
  {
   "cell_type": "code",
   "execution_count": 20,
   "metadata": {},
   "outputs": [
    {
     "name": "stdout",
     "output_type": "stream",
     "text": [
      "Только исходные признаки\n",
      "Доля верных ответов (обучение): 84.39%\n",
      "Доля верных ответов (валидация): 76.62%\n",
      "Исходные + сгенерированные признаки\n",
      "Доля верных ответов (обучение): 84.39%\n",
      "Доля верных ответов (валидация): 77.61%\n"
     ]
    }
   ],
   "source": [
    "model = neighbors.KNeighborsClassifier()\n",
    "print('Только исходные признаки')\n",
    "run_fit(model, train, valid, features_list=base_features_list, verbose=False)\n",
    "print('Исходные + сгенерированные признаки')\n",
    "run_fit(model, train, valid, verbose=False);"
   ]
  },
  {
   "cell_type": "markdown",
   "metadata": {},
   "source": [
    "Неплохой результат (для дефолтных настроек). Начинаем более точную настройку. Единственное, чего мы тут не особо учитываем - это вводимые метрики. У нас есть стандартизованное пространство признаков, и получается, что все признаки там имеют равный \"вес\". Но попробуем как есть."
   ]
  },
  {
   "cell_type": "code",
   "execution_count": 21,
   "metadata": {},
   "outputs": [
    {
     "name": "stdout",
     "output_type": "stream",
     "text": [
      "Лучшие гиперпараметры: \n",
      "доля верных ответов (обучение): 100.00%\n",
      "доля верных ответов (валидация): 80.10%\n",
      "параметры: {'algorithm': 'ball_tree', 'metric': 'euclidean', 'n_jobs': 8, 'n_neighbors': 10, 'weights': 'distance'}\n",
      "CPU times: user 20.9 s, sys: 0 ns, total: 20.9 s\n",
      "Wall time: 26.2 s\n"
     ]
    }
   ],
   "source": [
    "%%time\n",
    "model = neighbors.KNeighborsClassifier\n",
    "p_list = model_selection.ParameterGrid({\n",
    "                                'n_neighbors': np.arange(1,11,1),\n",
    "                                'weights': ['uniform', 'distance'],\n",
    "                                'algorithm': ['ball_tree', 'kd_tree'],\n",
    "                                'metric': ['euclidean', 'manhattan', 'chebyshev'],\n",
    "                                'n_jobs': [8],\n",
    "})\n",
    "best_model = run_param_grid(model, p_list, train, valid)"
   ]
  },
  {
   "cell_type": "markdown",
   "metadata": {},
   "source": [
    "Очень неплохо для такой простой модели."
   ]
  },
  {
   "cell_type": "code",
   "execution_count": 22,
   "metadata": {},
   "outputs": [
    {
     "name": "stdout",
     "output_type": "stream",
     "text": [
      "Доля верных ответов (тест): 81.84%\n"
     ]
    }
   ],
   "source": [
    "predictions = best_model.predict(test[features])\n",
    "print(f'Доля верных ответов (тест): {metrics.accuracy_score(test[targets], predictions):.2%}')"
   ]
  },
  {
   "cell_type": "markdown",
   "metadata": {},
   "source": [
    "### Решающее дерево\n",
    "\n",
    "Попробуем одно дерево без ансамбля."
   ]
  },
  {
   "cell_type": "code",
   "execution_count": 23,
   "metadata": {},
   "outputs": [
    {
     "name": "stdout",
     "output_type": "stream",
     "text": [
      "Только исходные признаки\n",
      "Доля верных ответов (обучение): 100.00%\n",
      "Доля верных ответов (валидация): 73.30%\n",
      "Исходные + сгенерированные признаки\n",
      "Доля верных ответов (обучение): 100.00%\n",
      "Доля верных ответов (валидация): 70.15%\n"
     ]
    }
   ],
   "source": [
    "model = tree.DecisionTreeClassifier(random_state=random_state)\n",
    "print('Только исходные признаки')\n",
    "run_fit(model, train, valid, features_list=base_features_list, verbose=False)\n",
    "print('Исходные + сгенерированные признаки')\n",
    "run_fit(model, train, valid, verbose=False);"
   ]
  },
  {
   "cell_type": "markdown",
   "metadata": {},
   "source": [
    "Наблюдаем переобучение. Надо уменьшать глубину дерева или усиливать критерии оставнова. Вручную это делать бестолково, так что лучше сразу запустим с сеткой параметров. Но сначала посмотрим, как параметры по отдельности влияют на переобучение."
   ]
  },
  {
   "cell_type": "code",
   "execution_count": 24,
   "metadata": {},
   "outputs": [
    {
     "data": {
      "image/png": "[encoded data removed]",
      "text/plain": [
       "<Figure size 864x576 with 1 Axes>"
      ]
     },
     "metadata": {},
     "output_type": "display_data"
    }
   ],
   "source": [
    "result = pd.DataFrame()\n",
    "for i in np.arange(1,30,1):\n",
    "    model = tree.DecisionTreeClassifier(random_state=random_state,\n",
    "                                        max_depth=i)\n",
    "    model.fit(train[features], train[targets])\n",
    "    train_score = metrics.accuracy_score(train[targets], model.predict(train[features]))\n",
    "    val_score = metrics.accuracy_score(valid[targets], model.predict(valid[features]))\n",
    "    cols = ['глубина_дерева', 'доля_верных_ответов', 'данные']\n",
    "    result = result.append(pd.DataFrame([[i, train_score, 'обучение']], columns=cols))\n",
    "    result = result.append(pd.DataFrame([[i, val_score, 'валидация']], columns=cols))\n",
    "result = result.reset_index(drop=True)\n",
    "sns.lineplot(data=result, x='глубина_дерева', y='доля_верных_ответов', hue='данные');"
   ]
  },
  {
   "cell_type": "markdown",
   "metadata": {},
   "source": [
    "Вот так и выглядит переобучение. Исходя из этого графика, оптимальная глубина лежит между 5 и 10.\n",
    "\n",
    "Но есть и другие параметры. Вроде как главные - минимальное количество образцов в листе (min_samples_leaf) и минимальное количество образцов для формирования узла (min_samples_split)."
   ]
  },
  {
   "cell_type": "code",
   "execution_count": 25,
   "metadata": {},
   "outputs": [
    {
     "data": {
      "image/png": "[encoded data removed]",
      "text/plain": [
       "<Figure size 864x576 with 1 Axes>"
      ]
     },
     "metadata": {},
     "output_type": "display_data"
    }
   ],
   "source": [
    "result = pd.DataFrame()\n",
    "for i in np.arange(1,21,1):\n",
    "    model = tree.DecisionTreeClassifier(random_state=random_state,\n",
    "                                        max_depth=8,\n",
    "                                        min_samples_leaf=i)\n",
    "    model.fit(train[features], train[targets])\n",
    "    train_score = metrics.accuracy_score(train[targets], model.predict(train[features]))\n",
    "    val_score = metrics.accuracy_score(valid[targets], model.predict(valid[features]))\n",
    "    cols = ['min_samples_leaf', 'доля_верных_ответов', 'данные']\n",
    "    result = result.append(pd.DataFrame([[i, train_score, 'обучение']], columns=cols))\n",
    "    result = result.append(pd.DataFrame([[i, val_score, 'валидация']], columns=cols))\n",
    "result = result.reset_index(drop=True)\n",
    "sns.lineplot(data=result, x='min_samples_leaf', y='доля_верных_ответов', hue='данные');"
   ]
  },
  {
   "cell_type": "code",
   "execution_count": 26,
   "metadata": {},
   "outputs": [
    {
     "data": {
      "image/png": "[encoded data removed]",
      "text/plain": [
       "<Figure size 864x576 with 1 Axes>"
      ]
     },
     "metadata": {},
     "output_type": "display_data"
    }
   ],
   "source": [
    "result = pd.DataFrame()\n",
    "for i in np.arange(2,41,1):\n",
    "    model = tree.DecisionTreeClassifier(random_state=random_state,\n",
    "                                        max_depth=8,\n",
    "                                        min_samples_split=i)\n",
    "    model.fit(train[features], train[targets])\n",
    "    train_score = metrics.accuracy_score(train[targets], model.predict(train[features]))\n",
    "    val_score = metrics.accuracy_score(valid[targets], model.predict(valid[features]))\n",
    "    cols = ['min_samples_split', 'доля_верных_ответов', 'данные']\n",
    "    result = result.append(pd.DataFrame([[i, train_score, 'обучение']], columns=cols))\n",
    "    result = result.append(pd.DataFrame([[i, val_score, 'валидация']], columns=cols))\n",
    "result = result.reset_index(drop=True)\n",
    "sns.lineplot(data=result, x='min_samples_split', y='доля_верных_ответов', hue='данные');"
   ]
  },
  {
   "cell_type": "markdown",
   "metadata": {},
   "source": [
    "Не совсем понятно, насколько хорошо они помогают, но точно влияют."
   ]
  },
  {
   "cell_type": "markdown",
   "metadata": {},
   "source": [
    "А теперь автоматический поиск."
   ]
  },
  {
   "cell_type": "code",
   "execution_count": 27,
   "metadata": {},
   "outputs": [
    {
     "name": "stdout",
     "output_type": "stream",
     "text": [
      "Лучшие гиперпараметры: \n",
      "доля верных ответов (обучение): 80.35%\n",
      "доля верных ответов (валидация): 79.77%\n",
      "параметры: {'criterion': 'gini', 'max_depth': 6, 'min_samples_leaf': 10, 'min_samples_split': 2, 'random_state': 2077, 'splitter': 'random'}\n",
      "CPU times: user 8.42 s, sys: 0 ns, total: 8.42 s\n",
      "Wall time: 8.44 s\n"
     ]
    }
   ],
   "source": [
    "%%time\n",
    "model = tree.DecisionTreeClassifier\n",
    "p_list = model_selection.ParameterGrid({\n",
    "                                    'criterion': ['gini', 'entropy'],\n",
    "                                    'splitter': ['best', 'random'],\n",
    "                                    'max_depth': np.arange(2,15,2),\n",
    "                                    'min_samples_split': np.arange(2,8,2),\n",
    "                                    'min_samples_leaf': np.arange(10,50,10),\n",
    "                                    'random_state': [random_state]\n",
    "                                    \n",
    "})\n",
    "best_model = run_param_grid(model, p_list, train, valid)"
   ]
  },
  {
   "cell_type": "markdown",
   "metadata": {},
   "source": [
    "Гиперпараметры оптимизированы, тестируем."
   ]
  },
  {
   "cell_type": "code",
   "execution_count": 28,
   "metadata": {},
   "outputs": [
    {
     "name": "stdout",
     "output_type": "stream",
     "text": [
      "Доля верных ответов (тест): 80.35%\n"
     ]
    }
   ],
   "source": [
    "predictions = best_model.predict(test[features])\n",
    "print(f'Доля верных ответов (тест): {metrics.accuracy_score(test[targets], predictions):.2%}')"
   ]
  },
  {
   "cell_type": "markdown",
   "metadata": {},
   "source": [
    "Удивительно неплохо (по сравнению с обучением)."
   ]
  },
  {
   "cell_type": "markdown",
   "metadata": {},
   "source": [
    "### Наивный Байес\n",
    "\n",
    "Не ожидаем ничего великого, но посмотрим на результат.\n",
    "\n",
    "Сразу оговоримся, что гиперпараметров тут практически нет, так что ничего крутить не будем."
   ]
  },
  {
   "cell_type": "code",
   "execution_count": 29,
   "metadata": {},
   "outputs": [
    {
     "name": "stdout",
     "output_type": "stream",
     "text": [
      "Только исходные признаки\n",
      "Доля верных ответов (обучение): 78.47%\n",
      "Доля верных ответов (валидация): 77.45%\n",
      "Исходные + сгенерированные признаки\n",
      "Доля верных ответов (обучение): 77.59%\n",
      "Доля верных ответов (валидация): 78.11%\n",
      "Доля верных ответов (тест): 80.35%\n"
     ]
    }
   ],
   "source": [
    "model = naive_bayes.GaussianNB()\n",
    "print('Только исходные признаки')\n",
    "run_fit(model, train, valid, features_list=base_features_list, verbose=False)\n",
    "print('Исходные + сгенерированные признаки')\n",
    "run_fit(model, train, valid, verbose=False)\n",
    "predictions = best_model.predict(test[features])\n",
    "print(f'Доля верных ответов (тест): {metrics.accuracy_score(test[targets], predictions):.2%}')"
   ]
  },
  {
   "cell_type": "markdown",
   "metadata": {},
   "source": [
    "На тесте результат лучше, чем на валидации, но в целом метод не очень подходит для нашей задачи."
   ]
  },
  {
   "cell_type": "markdown",
   "metadata": {},
   "source": [
    "### Метод опорных векторов"
   ]
  },
  {
   "cell_type": "code",
   "execution_count": 30,
   "metadata": {},
   "outputs": [
    {
     "name": "stdout",
     "output_type": "stream",
     "text": [
      "Только исходные признаки\n",
      "Доля верных ответов (обучение): 80.74%\n",
      "Доля верных ответов (валидация): 78.28%\n",
      "Исходные + сгенерированные признаки\n",
      "Доля верных ответов (обучение): 80.41%\n",
      "Доля верных ответов (валидация): 78.44%\n"
     ]
    }
   ],
   "source": [
    "model = svm.SVC()\n",
    "print('Только исходные признаки')\n",
    "run_fit(model, train, valid, features_list=base_features_list, verbose=False)\n",
    "print('Исходные + сгенерированные признаки')\n",
    "run_fit(model, train, valid, verbose=False);"
   ]
  },
  {
   "cell_type": "code",
   "execution_count": 31,
   "metadata": {},
   "outputs": [
    {
     "name": "stdout",
     "output_type": "stream",
     "text": [
      "Лучшие гиперпараметры: \n",
      "доля верных ответов (обучение): 80.52%\n",
      "доля верных ответов (валидация): 79.27%\n",
      "параметры: {'C': 3.0, 'gamma': 'scale', 'kernel': 'linear', 'random_state': 2077, 'shrinking': True}\n",
      "Доля верных ответов (тест): 81.34%\n",
      "CPU times: user 26.5 s, sys: 0 ns, total: 26.5 s\n",
      "Wall time: 26.5 s\n"
     ]
    }
   ],
   "source": [
    "%%time\n",
    "model = svm.SVC\n",
    "p_list = model_selection.ParameterGrid({\n",
    "                                    'C': np.linspace(0.01, 3, 7),\n",
    "                                    'kernel': ['linear', 'poly', 'rbf', 'sigmoid'],\n",
    "                                    'gamma': ['scale', 'auto'],\n",
    "                                    'shrinking': [True, False],\n",
    "                                    'random_state': [random_state]\n",
    "})\n",
    "best_model = run_param_grid(model, p_list, train, valid)\n",
    "predictions = best_model.predict(test[features])\n",
    "print(f'Доля верных ответов (тест): {metrics.accuracy_score(test[targets], predictions):.2%}')"
   ]
  },
  {
   "cell_type": "markdown",
   "metadata": {},
   "source": [
    "В общем вполне хорошо."
   ]
  },
  {
   "cell_type": "markdown",
   "metadata": {},
   "source": [
    "### Случайный лес\n",
    "\n",
    "Проверим, что получится сходу."
   ]
  },
  {
   "cell_type": "code",
   "execution_count": 32,
   "metadata": {},
   "outputs": [
    {
     "name": "stdout",
     "output_type": "stream",
     "text": [
      "Только исходные признаки\n",
      "Доля верных ответов (обучение): 97.90%\n",
      "Доля верных ответов (валидация): 78.61%\n",
      "Исходные + сгенерированные признаки\n",
      "Доля верных ответов (обучение): 97.73%\n",
      "Доля верных ответов (валидация): 78.28%\n"
     ]
    }
   ],
   "source": [
    "model = ensemble.RandomForestClassifier(random_state=random_state)\n",
    "print('Только исходные признаки')\n",
    "run_fit(model, train, valid, features_list=base_features_list, verbose=False)\n",
    "print('Исходные + сгенерированные признаки')\n",
    "run_fit(model, train, valid, verbose=False);"
   ]
  },
  {
   "cell_type": "markdown",
   "metadata": {},
   "source": [
    "Видим, что лес как бы переобучился, подогнавшись под обучающую выборку, но при этом все равно выдает неплохой результат на валидации.\n",
    "\n",
    "Попробуем покрутить гиперпараметры."
   ]
  },
  {
   "cell_type": "code",
   "execution_count": 33,
   "metadata": {},
   "outputs": [
    {
     "data": {
      "image/png": "[encoded data removed]",
      "text/plain": [
       "<Figure size 864x576 with 1 Axes>"
      ]
     },
     "metadata": {},
     "output_type": "display_data"
    }
   ],
   "source": [
    "result = pd.DataFrame()\n",
    "for i in np.arange(2,100,4):\n",
    "    model = ensemble.RandomForestClassifier(random_state=random_state,\n",
    "                                        n_estimators=i)\n",
    "    model.fit(train[features], train[targets])\n",
    "    train_score = metrics.accuracy_score(train[targets], model.predict(train[features]))\n",
    "    val_score = metrics.accuracy_score(valid[targets], model.predict(valid[features]))\n",
    "    cols = ['количество_деревьев_в_лесу', 'доля_верных_ответов', 'данные']\n",
    "    result = result.append(pd.DataFrame([[i, train_score, 'обучение']], columns=cols))\n",
    "    result = result.append(pd.DataFrame([[i, val_score, 'валидация']], columns=cols))\n",
    "result = result.reset_index(drop=True)\n",
    "sns.lineplot(data=result, x='количество_деревьев_в_лесу', y='доля_верных_ответов', hue='данные');"
   ]
  },
  {
   "cell_type": "markdown",
   "metadata": {},
   "source": [
    "Интересно, что тут тоже наблюдается что-то вроде переобучения - максимум на валидации лежит в области 40-60 деревьев, а дальше результат ухудшается. Хотя, возможно, это связано с использованием фиксированной валидационной выборки, а не кросс-валидации."
   ]
  },
  {
   "cell_type": "code",
   "execution_count": 34,
   "metadata": {},
   "outputs": [
    {
     "data": {
      "image/png": "[encoded data removed]",
      "text/plain": [
       "<Figure size 864x576 with 1 Axes>"
      ]
     },
     "metadata": {},
     "output_type": "display_data"
    }
   ],
   "source": [
    "result = pd.DataFrame()\n",
    "for i in np.arange(2,30,1):\n",
    "    model = ensemble.RandomForestClassifier(random_state=random_state,\n",
    "                                        n_estimators=30,\n",
    "                                        max_depth=i)\n",
    "    model.fit(train[features], train[targets])\n",
    "    train_score = metrics.accuracy_score(train[targets], model.predict(train[features]))\n",
    "    val_score = metrics.accuracy_score(valid[targets], model.predict(valid[features]))\n",
    "    cols = ['максимальная_глубина_дерева', 'доля_верных_ответов', 'данные']\n",
    "    result = result.append(pd.DataFrame([[i, train_score, 'обучение']], columns=cols))\n",
    "    result = result.append(pd.DataFrame([[i, val_score, 'валидация']], columns=cols))\n",
    "result = result.reset_index(drop=True)\n",
    "sns.lineplot(data=result, x='максимальная_глубина_дерева', y='доля_верных_ответов', hue='данные');"
   ]
  },
  {
   "cell_type": "markdown",
   "metadata": {},
   "source": [
    "Как видим, оптимальная глубина между 5 и 10 соответствует тому же значению для одного дерева. Зато при дальнейшем увеличении мы не видим падения качества на валидации, то есть в этом смысле переобучения нет.\n",
    "\n",
    "Теперь покрутим ручки автоматически."
   ]
  },
  {
   "cell_type": "code",
   "execution_count": 35,
   "metadata": {},
   "outputs": [
    {
     "name": "stdout",
     "output_type": "stream",
     "text": [
      "Лучшие гиперпараметры: \n",
      "доля верных ответов (обучение): 81.13%\n",
      "доля верных ответов (валидация): 79.60%\n",
      "параметры: {'max_depth': 4, 'min_samples_leaf': 15, 'min_samples_split': 3, 'n_estimators': 20}\n",
      "CPU times: user 29.5 s, sys: 0 ns, total: 29.5 s\n",
      "Wall time: 29.5 s\n"
     ]
    }
   ],
   "source": [
    "%%time\n",
    "model = ensemble.RandomForestClassifier\n",
    "p_list = model_selection.ParameterGrid({\n",
    "                                    'n_estimators': np.arange(20,80,30),\n",
    "                                    #'criterion': ['gini', 'entropy'],\n",
    "                                    #'splitter': ['best', 'random'],\n",
    "                                    'max_depth': np.arange(2,9,2),\n",
    "                                    'min_samples_split': np.arange(1,10,2),\n",
    "                                    'min_samples_leaf': np.arange(5,55,10),\n",
    "                                    \n",
    "})\n",
    "best_model = run_param_grid(model, p_list, train, valid)"
   ]
  },
  {
   "cell_type": "markdown",
   "metadata": {},
   "source": [
    "Выглядит здорово. Будем считать, что лучше уже не сделаем без кросс-валидации."
   ]
  },
  {
   "cell_type": "code",
   "execution_count": 36,
   "metadata": {},
   "outputs": [
    {
     "name": "stdout",
     "output_type": "stream",
     "text": [
      "Доля верных ответов (тест): 81.59%\n"
     ]
    }
   ],
   "source": [
    "predictions = best_model.predict(test[features])\n",
    "print(f'Доля верных ответов (тест): {metrics.accuracy_score(test[targets], predictions):.2%}')"
   ]
  },
  {
   "cell_type": "markdown",
   "metadata": {},
   "source": [
    "### Градиентный бустинг\n",
    "\n",
    "Ну и попробуем самый модный алгоритм"
   ]
  },
  {
   "cell_type": "code",
   "execution_count": 37,
   "metadata": {},
   "outputs": [
    {
     "name": "stdout",
     "output_type": "stream",
     "text": [
      "Только исходные признаки\n",
      "Доля верных ответов (обучение): 97.07%\n",
      "Доля верных ответов (валидация): 76.95%\n",
      "Исходные + сгенерированные признаки\n",
      "Доля верных ответов (обучение): 99.72%\n",
      "Доля верных ответов (валидация): 78.61%\n",
      "CPU times: user 41.5 s, sys: 0 ns, total: 41.5 s\n",
      "Wall time: 41.9 s\n"
     ]
    }
   ],
   "source": [
    "%%time\n",
    "xgb.set_config(verbosity=0)\n",
    "model = xgb.XGBClassifier(random_state=random_state)\n",
    "print('Только исходные признаки')\n",
    "run_fit(model, train, valid, features_list=base_features_list, verbose=False)\n",
    "print('Исходные + сгенерированные признаки')\n",
    "run_fit(model, train, valid, verbose=False);"
   ]
  },
  {
   "cell_type": "markdown",
   "metadata": {},
   "source": [
    "И опять видим переобучение. Надо крутить ручки. Вроде как сабсэмплинг поможет справиться с ним."
   ]
  },
  {
   "cell_type": "code",
   "execution_count": 38,
   "metadata": {},
   "outputs": [
    {
     "data": {
      "image/png": "[encoded data removed]",
      "text/plain": [
       "<Figure size 864x576 with 1 Axes>"
      ]
     },
     "metadata": {},
     "output_type": "display_data"
    }
   ],
   "source": [
    "result = pd.DataFrame()\n",
    "for i in np.arange(2,200,5):\n",
    "    model = xgb.XGBClassifier(random_state=random_state,\n",
    "                              n_estimators=i,)\n",
    "    model.fit(train[features], train[targets])\n",
    "    train_score = metrics.accuracy_score(train[targets], model.predict(train[features]))\n",
    "    val_score = metrics.accuracy_score(valid[targets], model.predict(valid[features]))\n",
    "    cols = ['количество_деревьев', 'доля_верных_ответов', 'данные']\n",
    "    result = result.append(pd.DataFrame([[i, train_score, 'обучение']], columns=cols))\n",
    "    result = result.append(pd.DataFrame([[i, val_score, 'валидация']], columns=cols))\n",
    "result = result.reset_index(drop=True)\n",
    "sns.lineplot(data=result, x='количество_деревьев', y='доля_верных_ответов', hue='данные');"
   ]
  },
  {
   "cell_type": "markdown",
   "metadata": {},
   "source": [
    "Видим переобучение при большом количестве деревьев. Посмотрим еще на сабсэмплинг."
   ]
  },
  {
   "cell_type": "code",
   "execution_count": 39,
   "metadata": {},
   "outputs": [
    {
     "data": {
      "image/png": "[encoded data removed]",
      "text/plain": [
       "<Figure size 864x576 with 1 Axes>"
      ]
     },
     "metadata": {},
     "output_type": "display_data"
    }
   ],
   "source": [
    "result = pd.DataFrame()\n",
    "for i in np.linspace(0.3, 1, 50):\n",
    "    model = xgb.XGBClassifier(random_state=random_state,\n",
    "                              n_estimators=26,\n",
    "                              subsample=i)\n",
    "    model.fit(train[features], train[targets])\n",
    "    train_score = metrics.accuracy_score(train[targets], model.predict(train[features]))\n",
    "    val_score = metrics.accuracy_score(valid[targets], model.predict(valid[features]))\n",
    "    cols = ['размер_выборки_для_каждого_дерева', 'доля_верных_ответов', 'данные']\n",
    "    result = result.append(pd.DataFrame([[i, train_score, 'обучение']], columns=cols))\n",
    "    result = result.append(pd.DataFrame([[i, val_score, 'валидация']], columns=cols))\n",
    "result = result.reset_index(drop=True)\n",
    "sns.lineplot(data=result, x='размер_выборки_для_каждого_дерева', y='доля_верных_ответов', hue='данные');"
   ]
  },
  {
   "cell_type": "markdown",
   "metadata": {},
   "source": [
    "На такой картинке ничего не понятно - все скачет. Я это списываю на использование единственной валидационной выборки."
   ]
  },
  {
   "cell_type": "markdown",
   "metadata": {},
   "source": [
    "У градиентного бустинга слишком много параметров и вручную точно не получится найти оптимум в их многомерном пространстве. Опять запускаем сетку. Сетка искусственно обрезана, чтобы повысить скорость. Потом будет полноценный расчет."
   ]
  },
  {
   "cell_type": "code",
   "execution_count": 40,
   "metadata": {},
   "outputs": [
    {
     "name": "stdout",
     "output_type": "stream",
     "text": [
      "Лучшие гиперпараметры: \n",
      "доля верных ответов (обучение): 88.66%\n",
      "доля верных ответов (валидация): 80.60%\n",
      "параметры: {'learning_rate': 0.04, 'max_depth': 7, 'min_child_weight': 1, 'n_estimators': 70, 'nthread': 4, 'objective': 'binary:logistic', 'subsample': 0.8}\n",
      "CPU times: user 1min 57s, sys: 1.57 s, total: 1min 59s\n",
      "Wall time: 2min\n"
     ]
    }
   ],
   "source": [
    "%%time\n",
    "model = xgb.XGBClassifier\n",
    "p_list = model_selection.ParameterGrid({\n",
    "                                'objective':['binary:logistic'],\n",
    "                                'learning_rate': np.linspace(0.03, 0.05, 3),\n",
    "                                'max_depth': np.arange(1,9,3),\n",
    "                                'min_child_weight': np.arange(1,8,3),\n",
    "                                'subsample': np.linspace(0.7, 0.8, 2),\n",
    "                                'n_estimators': np.arange(40,100,30),\n",
    "                                'nthread': [4]\n",
    "})\n",
    "best_model = run_param_grid(model, p_list, train, valid)"
   ]
  },
  {
   "cell_type": "markdown",
   "metadata": {},
   "source": [
    "Отличный результат на валидации. Но опять же - это выглядит как подгонка под конкретно нашу валидационную выборку.\n",
    "\n",
    "Посмотрим еще на важность признаков."
   ]
  },
  {
   "cell_type": "code",
   "execution_count": 41,
   "metadata": {},
   "outputs": [
    {
     "data": {
      "image/png": "[encoded data removed]",
      "text/plain": [
       "<Figure size 864x576 with 1 Axes>"
      ]
     },
     "metadata": {},
     "output_type": "display_data"
    }
   ],
   "source": [
    "xgb.plot_importance(best_model);"
   ]
  },
  {
   "cell_type": "code",
   "execution_count": 42,
   "metadata": {},
   "outputs": [
    {
     "name": "stdout",
     "output_type": "stream",
     "text": [
      "Доля верных ответов (тест): 82.34%\n"
     ]
    }
   ],
   "source": [
    "predictions = best_model.predict(test[features])\n",
    "print(f'Доля верных ответов (тест): {metrics.accuracy_score(test[targets], predictions):.2%}')"
   ]
  },
  {
   "cell_type": "markdown",
   "metadata": {},
   "source": [
    "Тоже хорошо."
   ]
  },
  {
   "cell_type": "markdown",
   "metadata": {},
   "source": [
    "### Выводы\n",
    "\n",
    "Сравнили 8 моделей (указана точность на тестовой выборке):\n",
    "- бэйзлайн \"всегда 0\", точность около 70%\n",
    "- логистическая регрессия, точность более 81%\n",
    "- K ближайших соседей, точность более 81%\n",
    "- дерево решений, точность более 80%\n",
    "- наивный Байес, точность более 80%\n",
    "- метод опорных векторов, точность более 81%\n",
    "- случайный лес, точность более 81%\n",
    "- градиентный бустинг на основе деревьев, точность более 82%\n",
    "\n",
    "Для каждой модели кроме бэйзлайна и Байеса использовали поиск оптимальных параметров по сетке.\n",
    "\n",
    "Промежуточный вывод: все модели, кроме наивного Байеса, выдают очень близкий результат.\n",
    "\n",
    "Дополнительное соображение: в ходе отработки проекта я тестил все это с разными значениями random_state и получал разные результаты, при этом лидерами всегда были или бустинг, или лес, а Байес всегда был в хвосте. Результаты остальных алгоритмов очень сильно зависят от случайности. Я это списываю на то, какой именно получается тестовая выборка."
   ]
  },
  {
   "cell_type": "markdown",
   "metadata": {},
   "source": [
    "## Кросс-валидация\n",
    "\n",
    "Использование заранее фиксированной валидационной выборки не очень осмысленно, когда есть автоматизированная кросс-валидация. Так давайте же погрузимся в нее.\n",
    "\n",
    "Сначала создадим функцию, которая будет сама запускать кросс-валидацию и выдавать результат, а также осуществлять поиск оптимальных гиперпараметров: по сетке или случайно.\n",
    "\n",
    "Кроме того, в функцию можно передать аргумент search=False, и тогда она не будет делать поиск гиперапараметров, а будет использовать те, которые дали. Это сделано для того, чтобы после первичного расчета (занимает час на гугл колабе) можно было использовать уже подобранные гиперпараметры."
   ]
  },
  {
   "cell_type": "code",
   "execution_count": 43,
   "metadata": {},
   "outputs": [],
   "source": [
    "def run_cross_val(train, test, model, parameters, features_list=False, n_splits=10, test_size=0.2, n_iter=5, rand=True, search=True):\n",
    "    start = time.time()\n",
    "    n_jobs = 8\n",
    "    # в функцию можно передать ограниченный список признаков, которые будут использованы\n",
    "    # Если список не передан, то просто используем все имеющиеся\n",
    "    if features_list == False:\n",
    "        features_list = train[features].columns.tolist()\n",
    "    train_features = train[features][features_list]\n",
    "    cv = model_selection.StratifiedShuffleSplit(n_splits=n_splits, test_size=test_size, random_state=random_state)\n",
    "    \n",
    "    # если нужен поиск, то задаем один из двух вариантов\n",
    "    if search:\n",
    "        if rand:\n",
    "            param_cv = model_selection.RandomizedSearchCV(model, parameters, scoring='accuracy', cv=cv, n_jobs=n_jobs, \n",
    "                                                        error_score=0.0, refit=True,\n",
    "                                                        n_iter=n_iter, random_state=random_state\n",
    "                                                        )\n",
    "        else:\n",
    "            param_cv = model_selection.GridSearchCV(model, parameters, scoring='accuracy', cv=cv, n_jobs=n_jobs, \n",
    "                                                    error_score=0.0, refit=True,\n",
    "                                                    )\n",
    "    \n",
    "    # если поиск не нужен, просто берем переданные параметры из словаря    \n",
    "    else:\n",
    "        param_cv = model.set_params(**parameters)\n",
    "    \n",
    "    param_cv.fit(train_features, train[targets])\n",
    "    \n",
    "    # в случае поиска и его отсутствия результаты получаются из разных источников\n",
    "    if search:\n",
    "        cv_score = param_cv.best_score_\n",
    "        estimator = param_cv.best_estimator_\n",
    "        param = param_cv.best_params_\n",
    "    else:\n",
    "        cv_score = model_selection.cross_val_score(param_cv, train_full[features], train_full[targets], cv=cv, n_jobs=-1).mean()\n",
    "        estimator = param_cv\n",
    "        param = estimator.get_params()\n",
    "    \n",
    "    test_score = param_cv.score(test[features][features_list], test[targets])\n",
    "    model_name = str(type(model)).split('.')[-1].split('\\'')[0]\n",
    "    end = time.time()\n",
    "    t = end - start\n",
    "    print(f'Точность (кросс-вал / тест): {cv_score:.2%} / {test_score:.2%}, модель {model_name}, время расчета {t:.0f} сек')\n",
    "    # возвращаем не только аккьюраси, но и гиперпараметры, а также сами модели\n",
    "    return([\n",
    "        model_name,\n",
    "        cv_score,\n",
    "        test_score,\n",
    "        train_features.columns.tolist(),\n",
    "        param,\n",
    "        estimator\n",
    "    ])"
   ]
  },
  {
   "cell_type": "markdown",
   "metadata": {},
   "source": [
    "А теперь запустим оптимизацию всех использованных выше типов моделей. Каждая из них после такой оптимизации приблизится к пределу своих возможностей, поэтому тут же будем запускать их на тестовой выборке.\n",
    "\n",
    "Пояснение:\n",
    "- сначала создаем \"пустые\" модели, в которых задан только рандом стейт. Т.к. лес и бустинг дают лучшие результаты, создаем их в нескольких экземплярах\n",
    "- создаем набор словарей варьируемых параметров (для долгого расчета)\n",
    "- создаем список лучших параметров (получен мною по результату одного долгого расчета)\n",
    "- запускаем для всех моделей написанную выше функцию, при этом на выбор вставляем или варьируемые параметры, или лучшие\n",
    "- результат собираем в один датафрейм"
   ]
  },
  {
   "cell_type": "code",
   "execution_count": 44,
   "metadata": {},
   "outputs": [
    {
     "name": "stdout",
     "output_type": "stream",
     "text": [
      "Точность (кросс-вал / тест): 80.31% / 80.97%, модель LogisticRegression, время расчета 2 сек\n",
      "Точность (кросс-вал / тест): 79.25% / 81.84%, модель DecisionTreeClassifier, время расчета 1 сек\n",
      "Точность (кросс-вал / тест): 79.81% / 82.84%, модель KNeighborsClassifier, время расчета 4 сек\n",
      "Точность (кросс-вал / тест): 77.55% / 79.23%, модель GaussianNB, время расчета 0 сек\n",
      "Точность (кросс-вал / тест): 79.54% / 81.72%, модель SVC, время расчета 2 сек\n",
      "Точность (кросс-вал / тест): 80.48% / 82.96%, модель RandomForestClassifier, время расчета 4 сек\n",
      "Точность (кросс-вал / тест): 80.31% / 83.33%, модель RandomForestClassifier, время расчета 5 сек\n",
      "Точность (кросс-вал / тест): 80.35% / 83.33%, модель RandomForestClassifier, время расчета 4 сек\n",
      "Точность (кросс-вал / тест): 80.68% / 82.34%, модель XGBClassifier, время расчета 16 сек\n",
      "Точность (кросс-вал / тест): 80.50% / 83.08%, модель XGBClassifier, время расчета 36 сек\n",
      "Точность (кросс-вал / тест): 80.54% / 82.09%, модель XGBClassifier, время расчета 32 сек\n",
      "CPU times: user 1min 40s, sys: 1.71 s, total: 1min 41s\n",
      "Wall time: 1min 46s\n"
     ]
    }
   ],
   "source": [
    "%%time\n",
    "\n",
    "n_splits=10 \n",
    "n_iter=150\n",
    "\n",
    "model_lin = linear_model.LogisticRegression(random_state=random_state)\n",
    "model_tree = tree.DecisionTreeClassifier(random_state=random_state)\n",
    "model_knn = neighbors.KNeighborsClassifier()\n",
    "model_nb = naive_bayes.GaussianNB()\n",
    "model_svm = svm.SVC(random_state=random_state)\n",
    "model_rf1 = ensemble.RandomForestClassifier(random_state=random_state)\n",
    "model_rf2 = ensemble.RandomForestClassifier(random_state=random_state+1)\n",
    "model_rf3 = ensemble.RandomForestClassifier(random_state=random_state+2)\n",
    "model_xgb1 = xgb.XGBClassifier(random_state=random_state)\n",
    "model_xgb2 = xgb.XGBClassifier(random_state=random_state+1)\n",
    "model_xgb3 = xgb.XGBClassifier(random_state=random_state+2)\n",
    "\n",
    "parameters_lin = {\n",
    "    'penalty': ['none', 'l1', 'l2'],\n",
    "    'solver': ['newton-cg', 'lbfgs', 'liblinear', 'sag', 'saga'],\n",
    "    'C': np.logspace(-3, 2, num=30),\n",
    "                  }\n",
    "parameters_tree = {\n",
    "    'max_depth': np.arange(2,20,2),\n",
    "    'min_samples_split': np.arange(1,40,4),\n",
    "    'min_samples_leaf': np.arange(5,40,10),\n",
    "                   }\n",
    "parameters_knn = {\n",
    "    'n_neighbors': np.arange(1,13,1),\n",
    "    'weights': ['uniform', 'distance'],\n",
    "    'algorithm': ['ball_tree', 'kd_tree'],\n",
    "    'metric': ['euclidean', 'manhattan', 'chebyshev'],\n",
    "    'n_jobs': [4],\n",
    "                   }\n",
    "parameters_nb = {\n",
    "    'var_smoothing': np.linspace(1e-10, 1e-8, 9),\n",
    "    }\n",
    "parameters_svm = {\n",
    "    'C': np.linspace(0.01, 3, 11),\n",
    "    'coef0': np.linspace(-2, 2, 11),\n",
    "    'gamma': ['scale', 'auto'],\n",
    "    'shrinking': [True, False]\n",
    "                 }\n",
    "parameters_rf = {\n",
    "    'n_estimators': np.arange(10,100,5),\n",
    "    'max_depth': np.arange(3,12,2),\n",
    "    'min_samples_split': np.arange(1,40,4),\n",
    "    'min_samples_leaf': np.arange(5,40,10),\n",
    "                 }\n",
    "parameters_xgb = {\n",
    "    'objective':['binary:logistic'],\n",
    "    'learning_rate': np.linspace(0.005, 0.08, 20),\n",
    "    'max_depth': np.arange(1,9,1),\n",
    "    'min_child_weight': np.arange(1,7,1),\n",
    "    'subsample': np.linspace(0.5, 1, 7),\n",
    "    'n_estimators': np.arange(20,200,10),\n",
    "    'nthread': [4]\n",
    "              }\n",
    "\n",
    "best_parameters = [{'solver': 'liblinear', 'penalty': 'l2', 'C': 6.2101694189156165},\n",
    "                    {'min_samples_split': 25, 'min_samples_leaf': 35, 'max_depth': 6},\n",
    "                    {'weights': 'distance',\n",
    "                    'n_neighbors': 11,\n",
    "                    'n_jobs': 4,\n",
    "                    'metric': 'chebyshev',\n",
    "                    'algorithm': 'kd_tree'},\n",
    "                    {'var_smoothing': 6.287500000000001e-09},\n",
    "                    {'shrinking': False, 'gamma': 'scale', 'coef0': 0.0, 'C': 2.701},\n",
    "                    {'n_estimators': 50,\n",
    "                    'min_samples_split': 29,\n",
    "                    'min_samples_leaf': 5,\n",
    "                    'max_depth': 11},\n",
    "                    {'n_estimators': 65,\n",
    "                    'min_samples_split': 29,\n",
    "                    'min_samples_leaf': 5,\n",
    "                    'max_depth': 11},\n",
    "                    {'n_estimators': 50,\n",
    "                    'min_samples_split': 29,\n",
    "                    'min_samples_leaf': 5,\n",
    "                    'max_depth': 11},\n",
    "                    {'subsample': 0.9166666666666666,\n",
    "                    'objective': 'binary:logistic',\n",
    "                    'nthread': 4,\n",
    "                    'n_estimators': 50,\n",
    "                    'min_child_weight': 6,\n",
    "                    'max_depth': 8,\n",
    "                    'learning_rate': 0.060263157894736845},\n",
    "                    {'subsample': 0.5,\n",
    "                    'objective': 'binary:logistic',\n",
    "                    'nthread': 4,\n",
    "                    'n_estimators': 130,\n",
    "                    'min_child_weight': 4,\n",
    "                    'max_depth': 8,\n",
    "                    'learning_rate': 0.020789473684210528},\n",
    "                    {'subsample': 0.9166666666666666,\n",
    "                    'objective': 'binary:logistic',\n",
    "                    'nthread': 4,\n",
    "                    'n_estimators': 100,\n",
    "                    'min_child_weight': 2,\n",
    "                    'max_depth': 7,\n",
    "                    'learning_rate': 0.020789473684210528}]\n",
    "\n",
    "models_list = [model_lin, model_tree, model_knn, model_nb, model_svm, \n",
    "               model_rf1, model_rf2, model_rf3, \n",
    "               model_xgb1, model_xgb2, model_xgb3]\n",
    "parameters_list = [parameters_lin, parameters_tree, parameters_knn, parameters_nb, parameters_svm, \n",
    "                   parameters_rf, parameters_rf, parameters_rf, \n",
    "                   parameters_xgb, parameters_xgb, parameters_xgb]\n",
    "\n",
    "result_table = []\n",
    "\n",
    "# А вот тут закомментированы сроки долгого расчета и оставлен только быстрый с использованием уже найденных параметров\n",
    "# for model, parameters in zip(models_list, parameters_list):\n",
    "for model, parameters in zip(models_list, best_parameters):\n",
    "    # tmp = run_cross_val(train_full, test, model, parameters, n_splits=n_splits, test_size=0.2, n_iter=n_iter)\n",
    "    tmp = run_cross_val(train_full, test, model, parameters, n_splits=n_splits, test_size=0.2, n_iter=n_iter, search=False)\n",
    "    result_table.append(tmp)\n",
    "    \n",
    "result = pd.DataFrame(result_table, columns=['model_name', 'accuracy (cv)', 'accuracy (test)', 'used columns', 'best parameters', 'model']).sort_values('accuracy (test)', ascending=False)\n",
    "result['model_name'] = result['model_name'] + '_' + result.index.astype(str)"
   ]
  },
  {
   "cell_type": "markdown",
   "metadata": {},
   "source": [
    "Получили ряд классификаторов, каждый из которых на кросс-валидации выдает точность 79-80% (и только наивный Байес выпадает до 77%), а на тестовой выборке - более 80% (и опять наивный Байес выпадает).\n",
    "\n",
    "Лучшие результаты у градиентного бустинга и случайного леса, также неплохой результат у ближайших соседей.\n",
    "\n",
    "В принципе на этом можно было бы и закончить, но давайте попробуем последнюю меру."
   ]
  },
  {
   "cell_type": "markdown",
   "metadata": {},
   "source": [
    "## Стекинг\n",
    "\n",
    "У нас есть множество моделей, точность которых на отложенной выборке очень близка. Попробуем стекнуть их. Параметры моделей мы уже определили ранее и не будем их изменять, то есть в стекинге используем лучшие полученные выше параметры.\n",
    "\n",
    "Будем использовать классификатор с взвешенным голосованием, причем голосовать будем методом soft, а веса будут определены нелинейно на основе точностей моделей на тестовой выборке. Вес каждой модели равен разности между его точностью и точностью худшей модели, возведенной в 3 степень. Таким образом, худшая модель получает нулевой вес. Этот принцип я подобрал тут сам, просто потому, что он выдает лучший результат на тесте.\n",
    "\n",
    "Метод опорных векторов в использованном варианте не поддерживает вариант soft голосования, поэтому не будет рассматриваться."
   ]
  },
  {
   "cell_type": "code",
   "execution_count": 45,
   "metadata": {
    "scrolled": true
   },
   "outputs": [
    {
     "name": "stdout",
     "output_type": "stream",
     "text": [
      "Точность на тестовой выборке 83.58%\n",
      "CPU times: user 1min 41s, sys: 1.43 s, total: 1min 42s\n",
      "Wall time: 1min 43s\n"
     ]
    }
   ],
   "source": [
    "%%time\n",
    "result = result.sort_values('accuracy (test)', ascending=False)\n",
    "result['estimators'] = list(zip(result['model_name'], result['model']))\n",
    "m1 = result['accuracy (test)'].max()\n",
    "m2 = result['accuracy (test)'].min()\n",
    "\n",
    "res1 = result[~result['model_name'].str.contains('SVC')]\n",
    "estimators = res1['estimators'].tolist()\n",
    "weights = (res1['accuracy (test)'] - m2)**3\n",
    "\n",
    "model_stack = ensemble.VotingClassifier(estimators=estimators, voting='soft', weights=weights)\n",
    "cv = model_selection.StratifiedShuffleSplit(n_splits=n_splits, test_size=0.2, random_state=random_state)\n",
    "cv_accuracy = model_selection.cross_val_score(model_stack, train_full[features], train_full[targets], cv=cv, n_jobs=-1).mean()\n",
    "model_stack.fit(train_full[features], train_full[targets])\n",
    "test_accuracy = model_stack.score(test[features], test[targets])\n",
    "print(f'Точность на тестовой выборке {test_accuracy:.2%}')"
   ]
  },
  {
   "cell_type": "markdown",
   "metadata": {},
   "source": [
    "Отлично, вытянули еще долю процента =)\n",
    "\n",
    "Построим график с точностями всех полученных моделей."
   ]
  },
  {
   "cell_type": "code",
   "execution_count": 46,
   "metadata": {
    "scrolled": false
   },
   "outputs": [
    {
     "data": {
      "image/png": "[encoded data removed]",
      "text/plain": [
       "<Figure size 864x576 with 1 Axes>"
      ]
     },
     "metadata": {},
     "output_type": "display_data"
    }
   ],
   "source": [
    "result_for_plot = result[['model_name', 'accuracy (cv)', 'accuracy (test)']].append(\n",
    "    pd.DataFrame([['VotingClassifier', cv_accuracy, test_accuracy]], columns=['model_name', 'accuracy (cv)', 'accuracy (test)'])\n",
    ").sort_values('accuracy (test)', ascending=False).reset_index(drop=True)\n",
    "\n",
    "result_for_plot1 = result_for_plot[['model_name', 'accuracy (cv)']]\n",
    "result_for_plot1['выборка'] = 'Кросс-валидация'\n",
    "result_for_plot1['accuracy'] = result_for_plot1['accuracy (cv)']\n",
    "result_for_plot2 = result_for_plot[['model_name', 'accuracy (test)']]\n",
    "result_for_plot2['выборка'] = 'Тестовая выборка'\n",
    "result_for_plot2['accuracy'] = result_for_plot2['accuracy (test)']\n",
    "result_for_plot = result_for_plot1[['model_name', 'выборка', 'accuracy']].append(\n",
    "    result_for_plot2[['model_name', 'выборка', 'accuracy']])\n",
    "result_for_plot['accuracy'] = (result_for_plot['accuracy'] * 100)\n",
    "m1 = result_for_plot['accuracy'].min()\n",
    "m2 = result_for_plot['accuracy'].max()\n",
    "ax = sns.barplot(data=result_for_plot, y='model_name', x='accuracy', hue='выборка')\n",
    "ax.set(\n",
    "    ylabel='Модель', xlabel='Доля верных ответов, %', \n",
    "    title=f'Доли верных ответов для лучших обученных моделей\\nrandom_state={random_state}, n_iter={n_iter}, n_splits={n_splits}',\n",
    "    xlim=(m1 - (m2-m1)/7, m2 + (m2-m1)/7)\n",
    ")\n",
    "fig = ax.get_figure()\n",
    "fig.savefig(f'state{random_state}_iter{n_iter}_split{n_splits}_voting.png', facecolor='w', bbox_inches=\"tight\")"
   ]
  },
  {
   "cell_type": "markdown",
   "metadata": {},
   "source": [
    "## Общие выводы"
   ]
  },
  {
   "cell_type": "markdown",
   "metadata": {},
   "source": [
    "- имеющуюся выборку из 3200 объектов разбили на три подвыборки: учебную (1800), валидационную (600), отложенную тестовую (800). Выборки стратифицированы\n",
    "- на основе имеющихся 4 признаков создали новые: все попарные произведения, логарифмы и качественные признаки, свидетельствующие, что исходный признак равен 0\n",
    "- признаки стандартизовали\n",
    "- проверили точность бэйзлайн модели (выдает всегда 0), она равна 70%\n",
    "- по очереди проверили модели:\n",
    "    - логистическая регрессия, точность более 81%\n",
    "    - K ближайших соседей, точность более 81%\n",
    "    - дерево решений, точность более 80%\n",
    "    - наивный Байес, точность более 80%\n",
    "    - метод опорных векторов, точность более 81%\n",
    "    - случайный лес, точность более 81%\n",
    "    - градиентный бустинг на основе деревьев, точность более 82%\n",
    "- каждая из моделей выдавала более высокую точность при обучении на полном наборе сгенерированных признаков, чем на наборе исходных признаков\n",
    "- на основе кросс-валидации все модели были обучены на полной учебной выборке (учебная+валидация) со случайным поиском гиперпараметров. Случайный лес и градиентный бустинг обучены в 3 экземплярах каждый, отличающихся величиной random_state\n",
    "- точности моделей на тестовой выборке при обучении с кросс-валидацией выше, чем при использовании отложенной валидационной выборки, но разница мала - порядка 1% и меньше\n",
    "- все обученные модели (кроме метода опорных векторов) были объединены в стекинг методом взвешенного голосования, где вес модели тем выше, чем выше точность этой модели на тестовой выборке\n",
    "- стекинг показал лучший результат по точности - более 83,5%\n",
    "\n",
    "- вероятно, дальнейшее повышение точности невозможно, так как объекты перемешаны в пространстве признаков, и просто не могут быть разделены. Это можно объяснить тем, что данные соответствуют клиентам мобильного оператора на разных тарифах, и очень легко представить ситуацию, в которой два клиента с одинаковыми признаками используют разные тарифы\n",
    "\n",
    "- *дополнительное соображение* в ходе написания и отработки кода были использованы разные значения random_state, и при этом результаты значительно изменялись, в частности, сильно изменялась точность всех моделей на тестовой выборке, колеблясь от 79 до 83%, при этом лучшими моделями всегда оставались случайный лес и градиентный бустинг. Из этого я делаю вывод, что выбор конкретной тестовой выборки влияет на результаты обучения очень сильно, и этим нельзя пренебрегать"
   ]
  }
 ],
 "metadata": {
  "ExecuteTimeLog": [
   {
    "duration": 1410,
    "start_time": "2022-01-11T15:19:22.889Z"
   },
   {
    "duration": 104417,
    "start_time": "2022-01-11T15:19:40.743Z"
   },
   {
    "duration": 13083,
    "start_time": "2022-01-11T15:23:04.872Z"
   },
   {
    "duration": 227,
    "start_time": "2022-01-11T15:23:21.739Z"
   },
   {
    "duration": 50,
    "start_time": "2022-01-11T15:23:30.155Z"
   },
   {
    "duration": 3,
    "start_time": "2022-01-11T15:23:31.617Z"
   },
   {
    "duration": 1180,
    "start_time": "2022-01-11T15:23:32.995Z"
   },
   {
    "duration": 457,
    "start_time": "2022-01-11T15:23:34.356Z"
   },
   {
    "duration": 51,
    "start_time": "2022-01-11T15:24:07.886Z"
   },
   {
    "duration": 611,
    "start_time": "2022-01-11T15:25:05.884Z"
   },
   {
    "duration": 609,
    "start_time": "2022-01-11T15:25:05.887Z"
   },
   {
    "duration": 607,
    "start_time": "2022-01-11T15:25:05.891Z"
   },
   {
    "duration": 605,
    "start_time": "2022-01-11T15:25:05.894Z"
   },
   {
    "duration": 604,
    "start_time": "2022-01-11T15:25:05.897Z"
   },
   {
    "duration": 603,
    "start_time": "2022-01-11T15:25:05.899Z"
   },
   {
    "duration": 602,
    "start_time": "2022-01-11T15:25:05.902Z"
   },
   {
    "duration": 600,
    "start_time": "2022-01-11T15:25:05.905Z"
   },
   {
    "duration": 599,
    "start_time": "2022-01-11T15:25:05.908Z"
   },
   {
    "duration": 597,
    "start_time": "2022-01-11T15:25:05.912Z"
   },
   {
    "duration": 596,
    "start_time": "2022-01-11T15:25:05.914Z"
   },
   {
    "duration": 596,
    "start_time": "2022-01-11T15:25:05.916Z"
   },
   {
    "duration": 593,
    "start_time": "2022-01-11T15:25:05.920Z"
   },
   {
    "duration": 591,
    "start_time": "2022-01-11T15:25:05.923Z"
   },
   {
    "duration": 590,
    "start_time": "2022-01-11T15:25:05.926Z"
   },
   {
    "duration": 589,
    "start_time": "2022-01-11T15:25:05.928Z"
   },
   {
    "duration": 589,
    "start_time": "2022-01-11T15:25:05.930Z"
   },
   {
    "duration": 587,
    "start_time": "2022-01-11T15:25:05.933Z"
   },
   {
    "duration": 586,
    "start_time": "2022-01-11T15:25:05.936Z"
   },
   {
    "duration": 585,
    "start_time": "2022-01-11T15:25:05.938Z"
   },
   {
    "duration": 584,
    "start_time": "2022-01-11T15:25:05.940Z"
   },
   {
    "duration": 584,
    "start_time": "2022-01-11T15:25:05.942Z"
   },
   {
    "duration": 584,
    "start_time": "2022-01-11T15:25:05.944Z"
   },
   {
    "duration": 583,
    "start_time": "2022-01-11T15:25:05.946Z"
   },
   {
    "duration": 580,
    "start_time": "2022-01-11T15:25:05.951Z"
   },
   {
    "duration": 578,
    "start_time": "2022-01-11T15:25:05.954Z"
   },
   {
    "duration": 577,
    "start_time": "2022-01-11T15:25:05.957Z"
   },
   {
    "duration": 633,
    "start_time": "2022-01-11T15:25:05.959Z"
   },
   {
    "duration": 632,
    "start_time": "2022-01-11T15:25:05.962Z"
   },
   {
    "duration": 632,
    "start_time": "2022-01-11T15:25:05.964Z"
   },
   {
    "duration": 630,
    "start_time": "2022-01-11T15:25:05.967Z"
   },
   {
    "duration": 630,
    "start_time": "2022-01-11T15:25:05.969Z"
   },
   {
    "duration": 628,
    "start_time": "2022-01-11T15:25:05.972Z"
   },
   {
    "duration": 627,
    "start_time": "2022-01-11T15:25:05.975Z"
   },
   {
    "duration": 34752,
    "start_time": "2022-01-11T15:25:50.263Z"
   },
   {
    "duration": 65,
    "start_time": "2022-01-11T15:26:34.302Z"
   },
   {
    "duration": 3,
    "start_time": "2022-01-11T15:26:35.362Z"
   },
   {
    "duration": 2015,
    "start_time": "2022-01-11T15:26:35.993Z"
   },
   {
    "duration": 2235,
    "start_time": "2022-01-11T15:26:42.378Z"
   },
   {
    "duration": 443,
    "start_time": "2022-01-11T15:26:44.615Z"
   },
   {
    "duration": 36,
    "start_time": "2022-01-11T15:26:49.340Z"
   },
   {
    "duration": 17,
    "start_time": "2022-01-11T15:26:51.846Z"
   },
   {
    "duration": 13,
    "start_time": "2022-01-11T15:26:53.354Z"
   },
   {
    "duration": 7,
    "start_time": "2022-01-11T15:26:54.647Z"
   },
   {
    "duration": 8,
    "start_time": "2022-01-11T15:26:56.197Z"
   },
   {
    "duration": 369,
    "start_time": "2022-01-11T15:26:57.217Z"
   },
   {
    "duration": 6,
    "start_time": "2022-01-11T15:27:36.753Z"
   },
   {
    "duration": 19,
    "start_time": "2022-01-11T15:27:41.080Z"
   },
   {
    "duration": 91,
    "start_time": "2022-01-11T15:27:43.605Z"
   },
   {
    "duration": 21,
    "start_time": "2022-01-11T15:27:46.102Z"
   },
   {
    "duration": 1038,
    "start_time": "2022-01-11T15:27:47.046Z"
   },
   {
    "duration": 130,
    "start_time": "2022-01-11T15:27:48.773Z"
   },
   {
    "duration": 5,
    "start_time": "2022-01-11T15:27:50.522Z"
   },
   {
    "duration": 10,
    "start_time": "2022-01-11T15:29:08.191Z"
   },
   {
    "duration": 364,
    "start_time": "2022-01-11T15:29:08.204Z"
   },
   {
    "duration": 81674,
    "start_time": "2022-01-11T15:29:08.570Z"
   },
   {
    "duration": 8,
    "start_time": "2022-01-11T15:31:06.236Z"
   },
   {
    "duration": 180,
    "start_time": "2022-01-11T15:31:11.169Z"
   },
   {
    "duration": 33386,
    "start_time": "2022-01-11T15:31:19.998Z"
   },
   {
    "duration": 228,
    "start_time": "2022-01-11T15:31:53.386Z"
   },
   {
    "duration": 236,
    "start_time": "2022-01-11T15:32:12.252Z"
   },
   {
    "duration": 70,
    "start_time": "2022-01-11T15:32:16.593Z"
   },
   {
    "duration": 48269,
    "start_time": "2022-01-11T15:32:27.544Z"
   },
   {
    "duration": 5,
    "start_time": "2022-01-11T15:33:15.815Z"
   },
   {
    "duration": 135,
    "start_time": "2022-01-11T15:33:15.822Z"
   },
   {
    "duration": 36791,
    "start_time": "2022-01-11T15:33:52.737Z"
   },
   {
    "duration": 8,
    "start_time": "2022-01-11T15:34:29.530Z"
   },
   {
    "duration": 75926,
    "start_time": "2022-01-11T15:34:29.540Z"
   },
   {
    "duration": 395,
    "start_time": "2022-01-11T15:35:45.468Z"
   },
   {
    "duration": 7,
    "start_time": "2022-01-11T15:35:45.865Z"
   },
   {
    "duration": 18,
    "start_time": "2022-01-11T15:35:45.873Z"
   },
   {
    "duration": 154,
    "start_time": "2022-01-11T15:35:53.393Z"
   },
   {
    "duration": 98,
    "start_time": "2022-01-11T15:36:33.779Z"
   },
   {
    "duration": 35679,
    "start_time": "2022-01-11T15:36:42.816Z"
   },
   {
    "duration": 100165,
    "start_time": "2022-01-11T15:37:18.498Z"
   },
   {
    "duration": 61,
    "start_time": "2022-01-11T15:41:09.625Z"
   },
   {
    "duration": 11,
    "start_time": "2022-01-11T15:42:04.695Z"
   },
   {
    "duration": 212,
    "start_time": "2022-01-11T15:43:26.445Z"
   },
   {
    "duration": 9,
    "start_time": "2022-01-11T15:43:50.224Z"
   },
   {
    "duration": 56,
    "start_time": "2022-01-11T15:44:05.262Z"
   },
   {
    "duration": 12,
    "start_time": "2022-01-11T15:44:08.176Z"
   },
   {
    "duration": 14,
    "start_time": "2022-01-11T15:44:41.153Z"
   },
   {
    "duration": 7,
    "start_time": "2022-01-11T15:45:27.030Z"
   },
   {
    "duration": 148,
    "start_time": "2022-01-11T15:45:56.739Z"
   },
   {
    "duration": 8,
    "start_time": "2022-01-11T15:46:07.746Z"
   },
   {
    "duration": 134,
    "start_time": "2022-01-11T15:46:17.293Z"
   },
   {
    "duration": 148,
    "start_time": "2022-01-11T15:46:44.602Z"
   },
   {
    "duration": 144,
    "start_time": "2022-01-11T15:46:57.890Z"
   },
   {
    "duration": 153,
    "start_time": "2022-01-11T15:47:12.260Z"
   },
   {
    "duration": 408,
    "start_time": "2022-01-11T15:47:15.608Z"
   },
   {
    "duration": 422,
    "start_time": "2022-01-11T15:47:34.984Z"
   },
   {
    "duration": 41,
    "start_time": "2022-01-11T15:47:50.384Z"
   },
   {
    "duration": 158,
    "start_time": "2022-01-11T15:47:55.208Z"
   },
   {
    "duration": 4102,
    "start_time": "2022-01-11T15:51:16.455Z"
   },
   {
    "duration": 134,
    "start_time": "2022-01-11T15:51:42.453Z"
   },
   {
    "duration": 12,
    "start_time": "2022-01-11T15:51:50.071Z"
   },
   {
    "duration": 437,
    "start_time": "2022-01-11T15:52:15.463Z"
   },
   {
    "duration": 8,
    "start_time": "2022-01-11T15:52:53.917Z"
   },
   {
    "duration": 13,
    "start_time": "2022-01-11T15:52:54.119Z"
   },
   {
    "duration": 531,
    "start_time": "2022-01-11T15:52:54.473Z"
   },
   {
    "duration": 420,
    "start_time": "2022-01-11T15:53:26.493Z"
   },
   {
    "duration": 388,
    "start_time": "2022-01-11T15:53:29.730Z"
   },
   {
    "duration": 435,
    "start_time": "2022-01-11T15:53:33.885Z"
   },
   {
    "duration": 45,
    "start_time": "2022-01-11T15:55:38.017Z"
   },
   {
    "duration": 412,
    "start_time": "2022-01-11T15:55:38.255Z"
   },
   {
    "duration": 144,
    "start_time": "2022-01-11T15:55:42.344Z"
   },
   {
    "duration": 373,
    "start_time": "2022-01-11T15:55:42.629Z"
   },
   {
    "duration": 132,
    "start_time": "2022-01-11T15:55:54.489Z"
   },
   {
    "duration": 439,
    "start_time": "2022-01-11T15:55:54.772Z"
   },
   {
    "duration": 380,
    "start_time": "2022-01-11T15:56:03.347Z"
   },
   {
    "duration": 349,
    "start_time": "2022-01-11T15:57:16.705Z"
   },
   {
    "duration": 499,
    "start_time": "2022-01-11T15:58:02.385Z"
   },
   {
    "duration": 143,
    "start_time": "2022-01-11T15:58:32.690Z"
   },
   {
    "duration": 8,
    "start_time": "2022-01-11T15:58:41.515Z"
   },
   {
    "duration": 11,
    "start_time": "2022-01-11T15:58:41.952Z"
   },
   {
    "duration": 556,
    "start_time": "2022-01-11T15:58:43.182Z"
   },
   {
    "duration": 373,
    "start_time": "2022-01-11T15:59:18.260Z"
   },
   {
    "duration": 380,
    "start_time": "2022-01-11T15:59:24.964Z"
   },
   {
    "duration": 375,
    "start_time": "2022-01-11T16:00:23.155Z"
   },
   {
    "duration": 373,
    "start_time": "2022-01-11T16:00:26.912Z"
   },
   {
    "duration": 464,
    "start_time": "2022-01-11T16:00:46.971Z"
   },
   {
    "duration": 457,
    "start_time": "2022-01-11T16:00:58.883Z"
   },
   {
    "duration": 665,
    "start_time": "2022-01-11T16:01:17.514Z"
   },
   {
    "duration": 481,
    "start_time": "2022-01-11T16:01:30.050Z"
   },
   {
    "duration": 464,
    "start_time": "2022-01-11T16:02:18.341Z"
   },
   {
    "duration": 462,
    "start_time": "2022-01-11T16:02:23.954Z"
   },
   {
    "duration": 464,
    "start_time": "2022-01-11T16:02:40.513Z"
   },
   {
    "duration": 847198,
    "start_time": "2022-01-11T16:11:26.944Z"
   },
   {
    "duration": 58,
    "start_time": "2022-01-11T16:25:34.144Z"
   },
   {
    "duration": 4,
    "start_time": "2022-01-11T16:25:34.205Z"
   },
   {
    "duration": 2050,
    "start_time": "2022-01-11T16:25:34.211Z"
   },
   {
    "duration": 433,
    "start_time": "2022-01-11T16:25:36.263Z"
   },
   {
    "duration": 41,
    "start_time": "2022-01-11T16:25:36.699Z"
   },
   {
    "duration": 18,
    "start_time": "2022-01-11T16:25:36.742Z"
   },
   {
    "duration": 39,
    "start_time": "2022-01-11T16:25:36.763Z"
   },
   {
    "duration": 5,
    "start_time": "2022-01-11T16:25:36.805Z"
   },
   {
    "duration": 6,
    "start_time": "2022-01-11T16:25:36.812Z"
   },
   {
    "duration": 20,
    "start_time": "2022-01-11T16:25:36.820Z"
   },
   {
    "duration": 153,
    "start_time": "2022-01-11T16:25:36.842Z"
   },
   {
    "duration": 116,
    "start_time": "2022-01-11T16:25:36.997Z"
   },
   {
    "duration": 1004524,
    "start_time": "2022-01-11T16:25:43.732Z"
   },
   {
    "duration": 60,
    "start_time": "2022-01-11T16:42:28.258Z"
   },
   {
    "duration": 2,
    "start_time": "2022-01-11T16:42:28.320Z"
   },
   {
    "duration": 68460,
    "start_time": "2022-01-11T16:42:58.847Z"
   },
   {
    "duration": 55,
    "start_time": "2022-01-11T16:44:07.309Z"
   },
   {
    "duration": 3,
    "start_time": "2022-01-11T16:44:07.367Z"
   },
   {
    "duration": 2141,
    "start_time": "2022-01-11T16:44:07.372Z"
   },
   {
    "duration": 376,
    "start_time": "2022-01-11T16:44:09.515Z"
   },
   {
    "duration": 33,
    "start_time": "2022-01-11T16:44:09.893Z"
   },
   {
    "duration": 14,
    "start_time": "2022-01-11T16:44:09.928Z"
   },
   {
    "duration": 10,
    "start_time": "2022-01-11T16:44:09.944Z"
   },
   {
    "duration": 39,
    "start_time": "2022-01-11T16:44:09.957Z"
   },
   {
    "duration": 6,
    "start_time": "2022-01-11T16:44:09.999Z"
   },
   {
    "duration": 25,
    "start_time": "2022-01-11T16:44:10.006Z"
   },
   {
    "duration": 157,
    "start_time": "2022-01-11T16:44:10.033Z"
   },
   {
    "duration": 120,
    "start_time": "2022-01-11T16:44:10.193Z"
   },
   {
    "duration": 1125,
    "start_time": "2022-01-11T16:44:10.393Z"
   },
   {
    "duration": 173,
    "start_time": "2022-01-11T16:44:11.521Z"
   },
   {
    "duration": 94,
    "start_time": "2022-01-11T16:44:11.698Z"
   },
   {
    "duration": 72950,
    "start_time": "2022-01-11T16:44:11.794Z"
   },
   {
    "duration": 52,
    "start_time": "2022-01-11T16:45:24.747Z"
   },
   {
    "duration": 388,
    "start_time": "2022-01-11T16:45:24.802Z"
   },
   {
    "duration": 35752,
    "start_time": "2022-01-11T16:45:25.192Z"
   },
   {
    "duration": 268,
    "start_time": "2022-01-11T16:46:00.946Z"
   },
   {
    "duration": 78,
    "start_time": "2022-01-11T16:46:01.216Z"
   },
   {
    "duration": 49355,
    "start_time": "2022-01-11T16:46:01.296Z"
   },
   {
    "duration": 6,
    "start_time": "2022-01-11T16:46:50.653Z"
   },
   {
    "duration": 143,
    "start_time": "2022-01-11T16:46:50.661Z"
   },
   {
    "duration": 36896,
    "start_time": "2022-01-11T16:46:50.805Z"
   },
   {
    "duration": 9,
    "start_time": "2022-01-11T16:47:27.704Z"
   },
   {
    "duration": 167083,
    "start_time": "2022-01-11T16:47:27.715Z"
   },
   {
    "duration": 224566,
    "start_time": "2022-01-11T16:50:14.800Z"
   },
   {
    "duration": 203,
    "start_time": "2022-01-11T16:53:59.368Z"
   },
   {
    "duration": 516,
    "start_time": "2022-01-11T16:53:59.058Z"
   },
   {
    "duration": 513,
    "start_time": "2022-01-11T16:53:59.062Z"
   },
   {
    "duration": 510,
    "start_time": "2022-01-11T16:53:59.066Z"
   },
   {
    "duration": 508,
    "start_time": "2022-01-11T16:53:59.070Z"
   },
   {
    "duration": 506,
    "start_time": "2022-01-11T16:53:59.073Z"
   },
   {
    "duration": 9844,
    "start_time": "2022-01-11T16:54:16.718Z"
   },
   {
    "duration": 52,
    "start_time": "2022-01-11T16:54:26.564Z"
   },
   {
    "duration": 3,
    "start_time": "2022-01-11T16:54:26.618Z"
   },
   {
    "duration": 2115,
    "start_time": "2022-01-11T16:54:26.624Z"
   },
   {
    "duration": 353,
    "start_time": "2022-01-11T16:54:28.741Z"
   },
   {
    "duration": 41,
    "start_time": "2022-01-11T16:54:29.096Z"
   },
   {
    "duration": 21,
    "start_time": "2022-01-11T16:54:29.138Z"
   },
   {
    "duration": 30,
    "start_time": "2022-01-11T16:54:29.161Z"
   },
   {
    "duration": 9,
    "start_time": "2022-01-11T16:54:29.195Z"
   },
   {
    "duration": 15,
    "start_time": "2022-01-11T16:54:29.206Z"
   },
   {
    "duration": 41,
    "start_time": "2022-01-11T16:54:29.223Z"
   },
   {
    "duration": 132,
    "start_time": "2022-01-11T16:54:29.266Z"
   },
   {
    "duration": 192,
    "start_time": "2022-01-11T16:54:29.401Z"
   },
   {
    "duration": 1143,
    "start_time": "2022-01-11T16:54:29.595Z"
   },
   {
    "duration": 155,
    "start_time": "2022-01-11T16:54:30.740Z"
   },
   {
    "duration": 95,
    "start_time": "2022-01-11T16:54:30.898Z"
   },
   {
    "duration": 75438,
    "start_time": "2022-01-11T16:54:30.996Z"
   },
   {
    "duration": 61,
    "start_time": "2022-01-11T16:55:46.436Z"
   },
   {
    "duration": 368,
    "start_time": "2022-01-11T16:55:46.500Z"
   },
   {
    "duration": 34692,
    "start_time": "2022-01-11T16:55:46.869Z"
   },
   {
    "duration": 133,
    "start_time": "2022-01-11T16:56:21.563Z"
   },
   {
    "duration": 103,
    "start_time": "2022-01-11T16:56:21.699Z"
   },
   {
    "duration": 48951,
    "start_time": "2022-01-11T16:56:21.805Z"
   },
   {
    "duration": 4,
    "start_time": "2022-01-11T16:57:10.758Z"
   },
   {
    "duration": 145,
    "start_time": "2022-01-11T16:57:10.764Z"
   },
   {
    "duration": 37012,
    "start_time": "2022-01-11T16:57:10.910Z"
   },
   {
    "duration": 8,
    "start_time": "2022-01-11T16:57:47.925Z"
   },
   {
    "duration": 163959,
    "start_time": "2022-01-11T16:57:47.935Z"
   },
   {
    "duration": 442916,
    "start_time": "2022-01-11T17:00:31.896Z"
   },
   {
    "duration": 137,
    "start_time": "2022-01-11T17:07:54.814Z"
   },
   {
    "duration": 573,
    "start_time": "2022-01-11T17:07:54.379Z"
   },
   {
    "duration": 571,
    "start_time": "2022-01-11T17:07:54.382Z"
   },
   {
    "duration": 570,
    "start_time": "2022-01-11T17:07:54.385Z"
   },
   {
    "duration": 568,
    "start_time": "2022-01-11T17:07:54.388Z"
   },
   {
    "duration": 566,
    "start_time": "2022-01-11T17:07:54.391Z"
   },
   {
    "duration": 13145,
    "start_time": "2022-01-11T17:08:10.480Z"
   },
   {
    "duration": 13713,
    "start_time": "2022-01-11T17:09:09.861Z"
   },
   {
    "duration": 51,
    "start_time": "2022-01-11T17:09:23.576Z"
   },
   {
    "duration": 3,
    "start_time": "2022-01-11T17:09:23.629Z"
   },
   {
    "duration": 2148,
    "start_time": "2022-01-11T17:09:23.633Z"
   },
   {
    "duration": 419,
    "start_time": "2022-01-11T17:09:25.782Z"
   },
   {
    "duration": 34,
    "start_time": "2022-01-11T17:09:26.203Z"
   },
   {
    "duration": 56,
    "start_time": "2022-01-11T17:09:26.239Z"
   },
   {
    "duration": 118,
    "start_time": "2022-01-11T17:09:26.298Z"
   },
   {
    "duration": 52,
    "start_time": "2022-01-11T17:09:26.419Z"
   },
   {
    "duration": 98,
    "start_time": "2022-01-11T17:09:26.473Z"
   },
   {
    "duration": 161,
    "start_time": "2022-01-11T17:09:26.572Z"
   },
   {
    "duration": 161,
    "start_time": "2022-01-11T17:09:26.735Z"
   },
   {
    "duration": 202,
    "start_time": "2022-01-11T17:09:26.899Z"
   },
   {
    "duration": 1243,
    "start_time": "2022-01-11T17:09:27.103Z"
   },
   {
    "duration": 148,
    "start_time": "2022-01-11T17:09:28.348Z"
   },
   {
    "duration": 122,
    "start_time": "2022-01-11T17:09:28.498Z"
   },
   {
    "duration": 85010,
    "start_time": "2022-01-11T17:09:28.622Z"
   },
   {
    "duration": 62,
    "start_time": "2022-01-11T17:10:53.634Z"
   },
   {
    "duration": 377,
    "start_time": "2022-01-11T17:10:53.699Z"
   },
   {
    "duration": 33695,
    "start_time": "2022-01-11T17:10:54.078Z"
   },
   {
    "duration": 239,
    "start_time": "2022-01-11T17:11:27.775Z"
   },
   {
    "duration": 76,
    "start_time": "2022-01-11T17:11:28.016Z"
   },
   {
    "duration": 47498,
    "start_time": "2022-01-11T17:11:28.095Z"
   },
   {
    "duration": 4,
    "start_time": "2022-01-11T17:12:15.596Z"
   },
   {
    "duration": 145,
    "start_time": "2022-01-11T17:12:15.602Z"
   },
   {
    "duration": 36699,
    "start_time": "2022-01-11T17:12:15.749Z"
   },
   {
    "duration": 7,
    "start_time": "2022-01-11T17:12:52.450Z"
   },
   {
    "duration": 7061,
    "start_time": "2022-01-11T17:12:52.459Z"
   },
   {
    "duration": 792876,
    "start_time": "2022-01-11T17:12:59.522Z"
   },
   {
    "duration": 411,
    "start_time": "2022-01-11T17:26:12.400Z"
   },
   {
    "duration": 9,
    "start_time": "2022-01-11T17:26:12.813Z"
   },
   {
    "duration": 44,
    "start_time": "2022-01-11T17:26:12.824Z"
   },
   {
    "duration": 468,
    "start_time": "2022-01-11T17:26:12.402Z"
   },
   {
    "duration": 467,
    "start_time": "2022-01-11T17:26:12.405Z"
   },
   {
    "duration": 464,
    "start_time": "2022-01-11T17:26:12.408Z"
   },
   {
    "duration": 7,
    "start_time": "2022-01-11T17:40:21.717Z"
   },
   {
    "duration": 73242,
    "start_time": "2022-01-11T19:08:03.071Z"
   },
   {
    "duration": 68,
    "start_time": "2022-01-11T19:09:16.315Z"
   },
   {
    "duration": 7770,
    "start_time": "2022-01-11T19:09:16.385Z"
   },
   {
    "duration": 2714,
    "start_time": "2022-01-11T19:09:24.157Z"
   },
   {
    "duration": 344,
    "start_time": "2022-01-11T19:09:26.873Z"
   },
   {
    "duration": 43,
    "start_time": "2022-01-11T19:09:27.218Z"
   },
   {
    "duration": 21,
    "start_time": "2022-01-11T19:09:27.265Z"
   },
   {
    "duration": 47,
    "start_time": "2022-01-11T19:09:27.288Z"
   },
   {
    "duration": 11,
    "start_time": "2022-01-11T19:09:27.341Z"
   },
   {
    "duration": 11,
    "start_time": "2022-01-11T19:09:27.354Z"
   },
   {
    "duration": 24,
    "start_time": "2022-01-11T19:09:27.367Z"
   },
   {
    "duration": 158,
    "start_time": "2022-01-11T19:09:27.392Z"
   },
   {
    "duration": 115,
    "start_time": "2022-01-11T19:09:27.556Z"
   },
   {
    "duration": 1065,
    "start_time": "2022-01-11T19:09:27.732Z"
   },
   {
    "duration": 158,
    "start_time": "2022-01-11T19:09:28.799Z"
   },
   {
    "duration": 91,
    "start_time": "2022-01-11T19:09:28.960Z"
   },
   {
    "duration": 266814,
    "start_time": "2022-01-11T19:09:29.053Z"
   },
   {
    "duration": 9,
    "start_time": "2022-01-11T19:13:55.936Z"
   },
   {
    "duration": 365,
    "start_time": "2022-01-11T19:13:55.947Z"
   },
   {
    "duration": 31940,
    "start_time": "2022-01-11T19:13:56.314Z"
   },
   {
    "duration": 225,
    "start_time": "2022-01-11T19:14:28.256Z"
   },
   {
    "duration": 71,
    "start_time": "2022-01-11T19:14:28.484Z"
   },
   {
    "duration": 45742,
    "start_time": "2022-01-11T19:14:28.556Z"
   },
   {
    "duration": 4,
    "start_time": "2022-01-11T19:15:14.299Z"
   },
   {
    "duration": 130,
    "start_time": "2022-01-11T19:15:14.305Z"
   },
   {
    "duration": 36179,
    "start_time": "2022-01-11T19:15:14.436Z"
   },
   {
    "duration": 19,
    "start_time": "2022-01-11T19:15:50.617Z"
   },
   {
    "duration": 30710,
    "start_time": "2022-01-11T19:15:50.638Z"
   },
   {
    "duration": 946656,
    "start_time": "2022-01-13T08:37:53.209Z"
   },
   {
    "duration": 72,
    "start_time": "2022-01-13T08:53:39.868Z"
   },
   {
    "duration": 4,
    "start_time": "2022-01-13T08:53:39.943Z"
   },
   {
    "duration": 3330,
    "start_time": "2022-01-13T08:53:39.949Z"
   },
   {
    "duration": 527,
    "start_time": "2022-01-13T08:53:43.282Z"
   },
   {
    "duration": 72,
    "start_time": "2022-01-13T08:53:43.813Z"
   },
   {
    "duration": 26,
    "start_time": "2022-01-13T08:53:43.889Z"
   },
   {
    "duration": 55,
    "start_time": "2022-01-13T08:53:43.921Z"
   },
   {
    "duration": 513,
    "start_time": "2022-01-13T08:53:43.979Z"
   },
   {
    "duration": 11,
    "start_time": "2022-01-13T08:53:44.494Z"
   },
   {
    "duration": 18,
    "start_time": "2022-01-13T08:53:44.507Z"
   },
   {
    "duration": 49,
    "start_time": "2022-01-13T08:53:44.528Z"
   },
   {
    "duration": 192,
    "start_time": "2022-01-13T08:53:44.579Z"
   },
   {
    "duration": 293,
    "start_time": "2022-01-13T08:53:44.774Z"
   },
   {
    "duration": 1562,
    "start_time": "2022-01-13T08:53:45.069Z"
   },
   {
    "duration": 333,
    "start_time": "2022-01-13T08:53:46.634Z"
   },
   {
    "duration": 8,
    "start_time": "2022-01-13T08:53:46.971Z"
   },
   {
    "duration": 57989,
    "start_time": "2022-01-13T08:53:46.981Z"
   },
   {
    "duration": 195,
    "start_time": "2022-01-13T08:54:44.974Z"
   },
   {
    "duration": 402,
    "start_time": "2022-01-13T08:54:45.173Z"
   },
   {
    "duration": 26187,
    "start_time": "2022-01-13T08:54:45.578Z"
   },
   {
    "duration": 213,
    "start_time": "2022-01-13T08:55:11.768Z"
   },
   {
    "duration": 113,
    "start_time": "2022-01-13T08:55:11.985Z"
   },
   {
    "duration": 2233,
    "start_time": "2022-01-13T08:55:12.101Z"
   },
   {
    "duration": 1497,
    "start_time": "2022-01-13T08:55:14.336Z"
   },
   {
    "duration": 2307,
    "start_time": "2022-01-13T08:55:15.835Z"
   },
   {
    "duration": 8448,
    "start_time": "2022-01-13T08:55:18.145Z"
   },
   {
    "duration": 8,
    "start_time": "2022-01-13T08:55:26.595Z"
   },
   {
    "duration": 33,
    "start_time": "2022-01-13T08:55:26.605Z"
   },
   {
    "duration": 388,
    "start_time": "2022-01-13T08:55:26.640Z"
   },
   {
    "duration": 26496,
    "start_time": "2022-01-13T08:55:27.031Z"
   },
   {
    "duration": 192,
    "start_time": "2022-01-13T08:55:53.529Z"
   },
   {
    "duration": 12438,
    "start_time": "2022-01-13T08:55:53.723Z"
   },
   {
    "duration": 8414,
    "start_time": "2022-01-13T08:56:06.167Z"
   },
   {
    "duration": 29527,
    "start_time": "2022-01-13T08:56:14.585Z"
   },
   {
    "duration": 11,
    "start_time": "2022-01-13T08:56:44.114Z"
   },
   {
    "duration": 41884,
    "start_time": "2022-01-13T08:56:44.128Z"
   },
   {
    "duration": 247271,
    "start_time": "2022-01-13T08:57:26.066Z"
   },
   {
    "duration": 76019,
    "start_time": "2022-01-13T09:01:33.340Z"
   },
   {
    "duration": 120807,
    "start_time": "2022-01-13T09:02:49.362Z"
   },
   {
    "duration": 619,
    "start_time": "2022-01-13T09:04:50.171Z"
   },
   {
    "duration": 17,
    "start_time": "2022-01-13T09:04:50.793Z"
   },
   {
    "duration": 14,
    "start_time": "2022-01-13T09:04:50.813Z"
   },
   {
    "duration": 106306,
    "start_time": "2022-01-13T09:04:50.869Z"
   },
   {
    "duration": 103900,
    "start_time": "2022-01-13T09:06:37.178Z"
   },
   {
    "duration": 2031,
    "start_time": "2022-01-13T09:08:21.168Z"
   }
  ],
  "kernelspec": {
   "display_name": "Python 3 (ipykernel)",
   "language": "python",
   "name": "python3"
  },
  "language_info": {
   "codemirror_mode": {
    "name": "ipython",
    "version": 3
   },
   "file_extension": ".py",
   "mimetype": "text/x-python",
   "name": "python",
   "nbconvert_exporter": "python",
   "pygments_lexer": "ipython3",
   "version": "3.9.10"
  },
  "toc": {
   "base_numbering": 1,
   "nav_menu": {
    "height": "494px",
    "width": "390px"
   },
   "number_sections": true,
   "sideBar": true,
   "skip_h1_title": true,
   "title_cell": "Содержание",
   "title_sidebar": "Содержание",
   "toc_cell": true,
   "toc_position": {
    "height": "calc(100% - 180px)",
    "left": "10px",
    "top": "150px",
    "width": "512px"
   },
   "toc_section_display": true,
   "toc_window_display": false
  }
 },
 "nbformat": 4,
 "nbformat_minor": 2
}
